{
 "cells": [
  {
   "cell_type": "code",
   "execution_count": 1,
   "metadata": {},
   "outputs": [],
   "source": [
    "# import packages\n",
    "import pandas as pd\n",
    "import matplotlib.pyplot as plt\n",
    "import numpy as np\n",
    "from utils import load_demo_df\n",
    "from ui_matrix_factorization import SVDRecommender"
   ]
  },
  {
   "cell_type": "code",
   "execution_count": 2,
   "metadata": {},
   "outputs": [],
   "source": [
    "name = 'MovieLens' # or 'Vea'\n",
    "user_item_ratings = load_demo_df(name=name, n_samples=10000)\n",
    "\n",
    "# initialize SVDRecommender object\n",
    "recommender = SVDRecommender(user_item_ratings)\n",
    "\n",
    "# get predicted ratings using MF\n",
    "num_singular_values = 20\n",
    "predicted_ratings = recommender.get_predicted_ratings_mf(num_singular_values)"
   ]
  },
  {
   "cell_type": "code",
   "execution_count": null,
   "metadata": {},
   "outputs": [],
   "source": [
    "# make recommendations (check user_id exist because of the sampler)\n",
    "top_recommendations, user_item_matrix_for_user = recommender.recommend(user_id=12, num_recommendations=8)"
   ]
  },
  {
   "attachments": {},
   "cell_type": "markdown",
   "metadata": {},
   "source": [
    "Test"
   ]
  },
  {
   "cell_type": "code",
   "execution_count": 9,
   "metadata": {},
   "outputs": [
    {
     "data": {
      "text/html": [
       "<div>\n",
       "<style scoped>\n",
       "    .dataframe tbody tr th:only-of-type {\n",
       "        vertical-align: middle;\n",
       "    }\n",
       "\n",
       "    .dataframe tbody tr th {\n",
       "        vertical-align: top;\n",
       "    }\n",
       "\n",
       "    .dataframe thead th {\n",
       "        text-align: right;\n",
       "    }\n",
       "</style>\n",
       "<table border=\"1\" class=\"dataframe\">\n",
       "  <thead>\n",
       "    <tr style=\"text-align: right;\">\n",
       "      <th></th>\n",
       "      <th>movieId</th>\n",
       "      <th>ratings</th>\n",
       "      <th>title</th>\n",
       "      <th>genres</th>\n",
       "    </tr>\n",
       "  </thead>\n",
       "  <tbody>\n",
       "    <tr>\n",
       "      <th>0</th>\n",
       "      <td>593</td>\n",
       "      <td>0.001324</td>\n",
       "      <td>Silence of the Lambs, The (1991)</td>\n",
       "      <td>Crime|Horror|Thriller</td>\n",
       "    </tr>\n",
       "    <tr>\n",
       "      <th>1</th>\n",
       "      <td>32</td>\n",
       "      <td>0.001304</td>\n",
       "      <td>Twelve Monkeys (a.k.a. 12 Monkeys) (1995)</td>\n",
       "      <td>Mystery|Sci-Fi|Thriller</td>\n",
       "    </tr>\n",
       "    <tr>\n",
       "      <th>2</th>\n",
       "      <td>58559</td>\n",
       "      <td>0.001298</td>\n",
       "      <td>Dark Knight, The (2008)</td>\n",
       "      <td>Action|Crime|Drama|IMAX</td>\n",
       "    </tr>\n",
       "    <tr>\n",
       "      <th>3</th>\n",
       "      <td>364</td>\n",
       "      <td>0.001296</td>\n",
       "      <td>Lion King, The (1994)</td>\n",
       "      <td>Adventure|Animation|Children|Drama|Musical|IMAX</td>\n",
       "    </tr>\n",
       "    <tr>\n",
       "      <th>4</th>\n",
       "      <td>778</td>\n",
       "      <td>0.001289</td>\n",
       "      <td>Trainspotting (1996)</td>\n",
       "      <td>Comedy|Crime|Drama</td>\n",
       "    </tr>\n",
       "  </tbody>\n",
       "</table>\n",
       "</div>"
      ],
      "text/plain": [
       "   movieId   ratings                                      title  \\\n",
       "0      593  0.001324           Silence of the Lambs, The (1991)   \n",
       "1       32  0.001304  Twelve Monkeys (a.k.a. 12 Monkeys) (1995)   \n",
       "2    58559  0.001298                    Dark Knight, The (2008)   \n",
       "3      364  0.001296                      Lion King, The (1994)   \n",
       "4      778  0.001289                       Trainspotting (1996)   \n",
       "\n",
       "                                            genres  \n",
       "0                            Crime|Horror|Thriller  \n",
       "1                          Mystery|Sci-Fi|Thriller  \n",
       "2                          Action|Crime|Drama|IMAX  \n",
       "3  Adventure|Animation|Children|Drama|Musical|IMAX  \n",
       "4                               Comedy|Crime|Drama  "
      ]
     },
     "execution_count": 9,
     "metadata": {},
     "output_type": "execute_result"
    }
   ],
   "source": [
    "# join table to present complete details\n",
    "movies_df = pd.read_csv('data/movieLens/movies.csv')\n",
    "movies_df.head()\n",
    "full_table_recommendation = top_recommendations.rename(columns={'item_id':'movieId'}).merge(movies_df, on='movieId', how='left')\n",
    "full_table_recommendation"
   ]
  }
 ],
 "metadata": {
  "kernelspec": {
   "display_name": "Python 3",
   "language": "python",
   "name": "python3"
  },
  "language_info": {
   "codemirror_mode": {
    "name": "ipython",
    "version": 3
   },
   "file_extension": ".py",
   "mimetype": "text/x-python",
   "name": "python",
   "nbconvert_exporter": "python",
   "pygments_lexer": "ipython3",
   "version": "3.10.10"
  },
  "orig_nbformat": 4
 },
 "nbformat": 4,
 "nbformat_minor": 2
}
