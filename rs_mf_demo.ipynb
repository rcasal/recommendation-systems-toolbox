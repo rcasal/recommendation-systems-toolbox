{
 "cells": [
  {
   "cell_type": "code",
   "execution_count": 11,
   "metadata": {},
   "outputs": [],
   "source": [
    "# import packages\n",
    "import pandas as pd\n",
    "import matplotlib.pyplot as plt\n",
    "import numpy as np\n",
    "from utils import load_demo_df\n",
    "from matrix_factorization.ui_matrix_factorization import SVDRecommender"
   ]
  },
  {
   "cell_type": "code",
   "execution_count": 12,
   "metadata": {},
   "outputs": [],
   "source": [
    "name = 'MovieLens' # or 'Vea'\n",
    "user_item_ratings = load_demo_df(name=name, n_samples=10000)\n",
    "\n",
    "# initialize SVDRecommender object\n",
    "recommender = SVDRecommender(user_item_ratings)\n",
    "\n",
    "# get predicted ratings using MF\n",
    "num_singular_values = 20\n",
    "predicted_ratings = recommender.get_predicted_ratings_mf(num_singular_values)"
   ]
  },
  {
   "cell_type": "code",
   "execution_count": 15,
   "metadata": {},
   "outputs": [],
   "source": [
    "# make recommendations (check user_id exist because of the sampler)\n",
    "top_recommendations, user_item_matrix_for_user = recommender.recommend(user_id=13, num_recommendations=8)"
   ]
  },
  {
   "attachments": {},
   "cell_type": "markdown",
   "metadata": {},
   "source": [
    "Test"
   ]
  },
  {
   "cell_type": "code",
   "execution_count": 16,
   "metadata": {},
   "outputs": [
    {
     "data": {
      "text/html": [
       "<div>\n",
       "<style scoped>\n",
       "    .dataframe tbody tr th:only-of-type {\n",
       "        vertical-align: middle;\n",
       "    }\n",
       "\n",
       "    .dataframe tbody tr th {\n",
       "        vertical-align: top;\n",
       "    }\n",
       "\n",
       "    .dataframe thead th {\n",
       "        text-align: right;\n",
       "    }\n",
       "</style>\n",
       "<table border=\"1\" class=\"dataframe\">\n",
       "  <thead>\n",
       "    <tr style=\"text-align: right;\">\n",
       "      <th></th>\n",
       "      <th>movieId</th>\n",
       "      <th>ratings</th>\n",
       "      <th>title</th>\n",
       "      <th>genres</th>\n",
       "    </tr>\n",
       "  </thead>\n",
       "  <tbody>\n",
       "    <tr>\n",
       "      <th>0</th>\n",
       "      <td>79132</td>\n",
       "      <td>0.002022</td>\n",
       "      <td>Inception (2010)</td>\n",
       "      <td>Action|Crime|Drama|Mystery|Sci-Fi|Thriller|IMAX</td>\n",
       "    </tr>\n",
       "    <tr>\n",
       "      <th>1</th>\n",
       "      <td>1193</td>\n",
       "      <td>0.001460</td>\n",
       "      <td>One Flew Over the Cuckoo's Nest (1975)</td>\n",
       "      <td>Drama</td>\n",
       "    </tr>\n",
       "    <tr>\n",
       "      <th>2</th>\n",
       "      <td>1196</td>\n",
       "      <td>0.001418</td>\n",
       "      <td>Star Wars: Episode V - The Empire Strikes Back...</td>\n",
       "      <td>Action|Adventure|Sci-Fi</td>\n",
       "    </tr>\n",
       "    <tr>\n",
       "      <th>3</th>\n",
       "      <td>480</td>\n",
       "      <td>0.001414</td>\n",
       "      <td>Jurassic Park (1993)</td>\n",
       "      <td>Action|Adventure|Sci-Fi|Thriller</td>\n",
       "    </tr>\n",
       "    <tr>\n",
       "      <th>4</th>\n",
       "      <td>1270</td>\n",
       "      <td>0.001406</td>\n",
       "      <td>Back to the Future (1985)</td>\n",
       "      <td>Adventure|Comedy|Sci-Fi</td>\n",
       "    </tr>\n",
       "    <tr>\n",
       "      <th>5</th>\n",
       "      <td>32</td>\n",
       "      <td>0.001366</td>\n",
       "      <td>Twelve Monkeys (a.k.a. 12 Monkeys) (1995)</td>\n",
       "      <td>Mystery|Sci-Fi|Thriller</td>\n",
       "    </tr>\n",
       "    <tr>\n",
       "      <th>6</th>\n",
       "      <td>780</td>\n",
       "      <td>0.001350</td>\n",
       "      <td>Independence Day (a.k.a. ID4) (1996)</td>\n",
       "      <td>Action|Adventure|Sci-Fi|Thriller</td>\n",
       "    </tr>\n",
       "    <tr>\n",
       "      <th>7</th>\n",
       "      <td>2858</td>\n",
       "      <td>0.001339</td>\n",
       "      <td>American Beauty (1999)</td>\n",
       "      <td>Drama|Romance</td>\n",
       "    </tr>\n",
       "  </tbody>\n",
       "</table>\n",
       "</div>"
      ],
      "text/plain": [
       "   movieId   ratings                                              title  \\\n",
       "0    79132  0.002022                                   Inception (2010)   \n",
       "1     1193  0.001460             One Flew Over the Cuckoo's Nest (1975)   \n",
       "2     1196  0.001418  Star Wars: Episode V - The Empire Strikes Back...   \n",
       "3      480  0.001414                               Jurassic Park (1993)   \n",
       "4     1270  0.001406                          Back to the Future (1985)   \n",
       "5       32  0.001366          Twelve Monkeys (a.k.a. 12 Monkeys) (1995)   \n",
       "6      780  0.001350               Independence Day (a.k.a. ID4) (1996)   \n",
       "7     2858  0.001339                             American Beauty (1999)   \n",
       "\n",
       "                                            genres  \n",
       "0  Action|Crime|Drama|Mystery|Sci-Fi|Thriller|IMAX  \n",
       "1                                            Drama  \n",
       "2                          Action|Adventure|Sci-Fi  \n",
       "3                 Action|Adventure|Sci-Fi|Thriller  \n",
       "4                          Adventure|Comedy|Sci-Fi  \n",
       "5                          Mystery|Sci-Fi|Thriller  \n",
       "6                 Action|Adventure|Sci-Fi|Thriller  \n",
       "7                                    Drama|Romance  "
      ]
     },
     "execution_count": 16,
     "metadata": {},
     "output_type": "execute_result"
    }
   ],
   "source": [
    "# join table to present complete details\n",
    "movies_df = pd.read_csv('data/movieLens/movies.csv')\n",
    "movies_df.head()\n",
    "full_table_recommendation = top_recommendations.rename(columns={'item_id':'movieId'}).merge(movies_df, on='movieId', how='left')\n",
    "full_table_recommendation"
   ]
  },
  {
   "cell_type": "code",
   "execution_count": null,
   "metadata": {},
   "outputs": [],
   "source": []
  }
 ],
 "metadata": {
  "kernelspec": {
   "display_name": "Python 3",
   "language": "python",
   "name": "python3"
  },
  "language_info": {
   "codemirror_mode": {
    "name": "ipython",
    "version": 3
   },
   "file_extension": ".py",
   "mimetype": "text/x-python",
   "name": "python",
   "nbconvert_exporter": "python",
   "pygments_lexer": "ipython3",
   "version": "3.10.10"
  },
  "orig_nbformat": 4
 },
 "nbformat": 4,
 "nbformat_minor": 2
}
