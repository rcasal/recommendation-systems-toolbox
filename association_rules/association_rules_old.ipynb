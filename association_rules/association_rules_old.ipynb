{
 "cells": [
  {
   "cell_type": "markdown",
   "id": "9312bfd0-a493-4129-bf78-df4015cdd605",
   "metadata": {},
   "source": [
    "# Imports"
   ]
  },
  {
   "cell_type": "code",
   "execution_count": 1,
   "id": "43d09f9c-2c83-440c-9c41-633a80d50bd9",
   "metadata": {},
   "outputs": [],
   "source": [
    "from google.cloud import bigquery\n",
    "import pandas as pd\n",
    "import os\n",
    "import datetime\n",
    "from datetime import date, timedelta, datetime\n",
    "from google.cloud import storage\n",
    "import seaborn as sns\n",
    "import matplotlib.pyplot as plt\n",
    "import plotly.express as px\n",
    "import plotly.graph_objects as go\n",
    "import numpy as np\n",
    "from plotly.subplots import make_subplots\n",
    "import joblib\n",
    "#from matplotlib_venn import venn3\n",
    "\n",
    "from datetime import datetime\n",
    "from sklearn.preprocessing import StandardScaler\n",
    "\n",
    "import pickle\n",
    "\n",
    "pd.options.display.max_columns = 200\n",
    "pd.options.display.max_rows = 200"
   ]
  },
  {
   "cell_type": "code",
   "execution_count": 3,
   "id": "e5eb1eda-e4c0-4e22-a1de-85009363c91f",
   "metadata": {},
   "outputs": [],
   "source": [
    "query = \"\"\"\n",
    "SELECT \n",
    "visitor_visit_id,\n",
    "array_agg(itemId) items_id,\n",
    "array_agg(v2ProductName) items_name,\n",
    "array_agg(v2ProductCategory) v2ProductCategory\n",
    "from \n",
    "`mightyhive-data-science-poc.ds_ezemeli.recommender_vea_full_raw`\n",
    "where rating = 5\n",
    "group by visitor_visit_id\n",
    "\"\"\""
   ]
  },
  {
   "cell_type": "code",
   "execution_count": 4,
   "id": "054970ba-f1e7-4834-b307-c5a273afe198",
   "metadata": {},
   "outputs": [],
   "source": [
    "client = bigquery.Client()\n",
    "df = client.query(query).to_dataframe()\n",
    "df.to_parquet(\"data/recommender_associetion_rules.parquet\", index=False)"
   ]
  },
  {
   "cell_type": "code",
   "execution_count": 5,
   "id": "a6ef855b-9e34-4d8a-845a-b90beb694e63",
   "metadata": {},
   "outputs": [
    {
     "data": {
      "text/plain": [
       "(35971, 4)"
      ]
     },
     "execution_count": 5,
     "metadata": {},
     "output_type": "execute_result"
    }
   ],
   "source": [
    "df.shape"
   ]
  },
  {
   "cell_type": "code",
   "execution_count": 6,
   "id": "de740f75-71fb-4deb-9d4a-63d395116ebf",
   "metadata": {
    "tags": []
   },
   "outputs": [
    {
     "data": {
      "text/html": [
       "<div>\n",
       "<style scoped>\n",
       "    .dataframe tbody tr th:only-of-type {\n",
       "        vertical-align: middle;\n",
       "    }\n",
       "\n",
       "    .dataframe tbody tr th {\n",
       "        vertical-align: top;\n",
       "    }\n",
       "\n",
       "    .dataframe thead th {\n",
       "        text-align: right;\n",
       "    }\n",
       "</style>\n",
       "<table border=\"1\" class=\"dataframe\">\n",
       "  <thead>\n",
       "    <tr style=\"text-align: right;\">\n",
       "      <th></th>\n",
       "      <th>visitor_visit_id</th>\n",
       "      <th>items_id</th>\n",
       "      <th>items_name</th>\n",
       "      <th>v2ProductCategory</th>\n",
       "    </tr>\n",
       "  </thead>\n",
       "  <tbody>\n",
       "    <tr>\n",
       "      <th>0</th>\n",
       "      <td>4682575112413999464-3</td>\n",
       "      <td>[12191, 100047729, 46236, 51363, 46243, 6008, ...</td>\n",
       "      <td>[Toalla Higiénica NOSOTRAS Buenas Noches Mayor...</td>\n",
       "      <td>[Cuidado Personal y Salud, Carnes, aves y pesc...</td>\n",
       "    </tr>\n",
       "    <tr>\n",
       "      <th>1</th>\n",
       "      <td>701170717086203454-141</td>\n",
       "      <td>[31112, 51380, 48747, 33005, 53243, 7794]</td>\n",
       "      <td>[Filete de Trucha Fresco, Pasta Dental AQUAFRE...</td>\n",
       "      <td>[Carnes, aves y pescados, Cuidado Personal y S...</td>\n",
       "    </tr>\n",
       "    <tr>\n",
       "      <th>2</th>\n",
       "      <td>8245964484084846073-47</td>\n",
       "      <td>[11741, 46684, 7327, 10696, 6314, 156, 3056, 1...</td>\n",
       "      <td>[Filete de Pechuga de Pollo Oriental REDONDOS ...</td>\n",
       "      <td>[Carnes, aves y pescados, Congelados, Bebidas,...</td>\n",
       "    </tr>\n",
       "    <tr>\n",
       "      <th>3</th>\n",
       "      <td>477653686965823739-1</td>\n",
       "      <td>[30479, 12111]</td>\n",
       "      <td>[Café NESCAFÉ Tradición Frasco 200g, Café Inst...</td>\n",
       "      <td>[Desayunos, Desayunos]</td>\n",
       "    </tr>\n",
       "    <tr>\n",
       "      <th>4</th>\n",
       "      <td>7593678983271530528-9</td>\n",
       "      <td>[32954, 125, 9926, 2958, 8862, 50543, 13562, 5...</td>\n",
       "      <td>[Toallitas Húmedas HUGGIES Limpieza Efectiva P...</td>\n",
       "      <td>[Cuidado del Bebé, Quesos y Fiambres, Abarrote...</td>\n",
       "    </tr>\n",
       "  </tbody>\n",
       "</table>\n",
       "</div>"
      ],
      "text/plain": [
       "         visitor_visit_id                                           items_id  \\\n",
       "0   4682575112413999464-3  [12191, 100047729, 46236, 51363, 46243, 6008, ...   \n",
       "1  701170717086203454-141          [31112, 51380, 48747, 33005, 53243, 7794]   \n",
       "2  8245964484084846073-47  [11741, 46684, 7327, 10696, 6314, 156, 3056, 1...   \n",
       "3    477653686965823739-1                                     [30479, 12111]   \n",
       "4   7593678983271530528-9  [32954, 125, 9926, 2958, 8862, 50543, 13562, 5...   \n",
       "\n",
       "                                          items_name  \\\n",
       "0  [Toalla Higiénica NOSOTRAS Buenas Noches Mayor...   \n",
       "1  [Filete de Trucha Fresco, Pasta Dental AQUAFRE...   \n",
       "2  [Filete de Pechuga de Pollo Oriental REDONDOS ...   \n",
       "3  [Café NESCAFÉ Tradición Frasco 200g, Café Inst...   \n",
       "4  [Toallitas Húmedas HUGGIES Limpieza Efectiva P...   \n",
       "\n",
       "                                   v2ProductCategory  \n",
       "0  [Cuidado Personal y Salud, Carnes, aves y pesc...  \n",
       "1  [Carnes, aves y pescados, Cuidado Personal y S...  \n",
       "2  [Carnes, aves y pescados, Congelados, Bebidas,...  \n",
       "3                             [Desayunos, Desayunos]  \n",
       "4  [Cuidado del Bebé, Quesos y Fiambres, Abarrote...  "
      ]
     },
     "execution_count": 6,
     "metadata": {},
     "output_type": "execute_result"
    }
   ],
   "source": [
    "df.head()"
   ]
  },
  {
   "cell_type": "markdown",
   "id": "26be7bfa-2f62-4062-8915-d0d676b4f07c",
   "metadata": {},
   "source": [
    "# Cantidades"
   ]
  },
  {
   "cell_type": "code",
   "execution_count": 7,
   "id": "9a0c4729-c8ff-4c6b-8640-a989ebf50f6e",
   "metadata": {},
   "outputs": [
    {
     "data": {
      "text/html": [
       "<div>\n",
       "<style scoped>\n",
       "    .dataframe tbody tr th:only-of-type {\n",
       "        vertical-align: middle;\n",
       "    }\n",
       "\n",
       "    .dataframe tbody tr th {\n",
       "        vertical-align: top;\n",
       "    }\n",
       "\n",
       "    .dataframe thead th {\n",
       "        text-align: right;\n",
       "    }\n",
       "</style>\n",
       "<table border=\"1\" class=\"dataframe\">\n",
       "  <thead>\n",
       "    <tr style=\"text-align: right;\">\n",
       "      <th></th>\n",
       "      <th>visitor_visit_id</th>\n",
       "      <th>items_id</th>\n",
       "      <th>items_name</th>\n",
       "      <th>v2ProductCategory</th>\n",
       "      <th>transacction_len</th>\n",
       "    </tr>\n",
       "  </thead>\n",
       "  <tbody>\n",
       "    <tr>\n",
       "      <th>0</th>\n",
       "      <td>4682575112413999464-3</td>\n",
       "      <td>[12191, 100047729, 46236, 51363, 46243, 6008, ...</td>\n",
       "      <td>[Toalla Higiénica NOSOTRAS Buenas Noches Mayor...</td>\n",
       "      <td>[Cuidado Personal y Salud, Carnes, aves y pesc...</td>\n",
       "      <td>15</td>\n",
       "    </tr>\n",
       "  </tbody>\n",
       "</table>\n",
       "</div>"
      ],
      "text/plain": [
       "        visitor_visit_id                                           items_id  \\\n",
       "0  4682575112413999464-3  [12191, 100047729, 46236, 51363, 46243, 6008, ...   \n",
       "\n",
       "                                          items_name  \\\n",
       "0  [Toalla Higiénica NOSOTRAS Buenas Noches Mayor...   \n",
       "\n",
       "                                   v2ProductCategory  transacction_len  \n",
       "0  [Cuidado Personal y Salud, Carnes, aves y pesc...                15  "
      ]
     },
     "execution_count": 7,
     "metadata": {},
     "output_type": "execute_result"
    }
   ],
   "source": [
    "df['transacction_len'] = df['items_id'].apply(lambda x: len(x))\n",
    "df.head(1)"
   ]
  },
  {
   "cell_type": "code",
   "execution_count": 8,
   "id": "ad0046ef-89e8-4a04-b236-7787e0f15144",
   "metadata": {},
   "outputs": [
    {
     "data": {
      "image/png": "[encoded data removed]",
      "text/plain": [
       "<Figure size 576x216 with 1 Axes>"
      ]
     },
     "metadata": {
      "needs_background": "light"
     },
     "output_type": "display_data"
    }
   ],
   "source": [
    "# Cantidad de productos comprados por Compra\n",
    "\n",
    "plt.figure(figsize=(8,3))\n",
    "sns.histplot(df['transacction_len'], bins=50)\n",
    "plt.title(\"Number of Transaccion Distribution\")\n",
    "plt.show()"
   ]
  },
  {
   "cell_type": "code",
   "execution_count": 9,
   "id": "15474b65-4371-4af5-8f59-55cde3ff7590",
   "metadata": {},
   "outputs": [
    {
     "data": {
      "text/plain": [
       "Huevos de Gallina BELL'S Pardos Bandeja 15un                 1754\n",
       "Huevos Pardos LA CALERA Paquete 30un                         1672\n",
       "Carne Molida Light de Res Empacada al vacío EL BUEN CORTE    1332\n",
       "Carne Molida de Res Empacada al vacío EL BUEN CORTE          1234\n",
       "Arroz Extra COSTEÑO Bolsa 5Kg                                1072\n",
       "Aceite Vegetal PRIMOR Premium Botella 1L                     1065\n",
       "Pan de Molde Blanco BIMBO Extra Grande Bolsa 750g             980\n",
       "Huevos de Gallina LA CALERA de Corral Bandeja 12un            977\n",
       "Bisteck de Res Empacada al vacío                              968\n",
       "Cerveza STELLA ARTOIS Premium Botella 330ml 6 Pack            909\n",
       "Name: elementos, dtype: int64"
      ]
     },
     "execution_count": 9,
     "metadata": {},
     "output_type": "execute_result"
    }
   ],
   "source": [
    "# Aplanamos la lista de compras\n",
    "compras_totales = []\n",
    "for i in df.items_name:\n",
    "      for j in i:\n",
    "        compras_totales.append(j)\n",
    "        \n",
    "# Mostramos la lista de los Productos mas vendidos\n",
    "n_productos = 10\n",
    "compras_totales = pd.DataFrame(compras_totales, columns=['elementos'])\n",
    "productos_mas_vendidos = compras_totales.elementos.value_counts()[:n_productos]\n",
    "productos_mas_vendidos"
   ]
  },
  {
   "cell_type": "code",
   "execution_count": null,
   "id": "e5071e8a-5e27-4817-9fdc-c190bf543559",
   "metadata": {},
   "outputs": [],
   "source": []
  },
  {
   "cell_type": "code",
   "execution_count": 44,
   "id": "9683305c-48b2-41a6-a5ac-007bfce9a135",
   "metadata": {},
   "outputs": [
    {
     "data": {
      "text/html": [
       "\n",
       "                <audio  controls=\"controls\" autoplay=\"autoplay\">\n",
       "                    <source src=\"data:audio/wav;base64,UklGRgQvAABXQVZFZm10IBAAAAABAAEAECcAACBOAAACABAAZGF0YeAuAAAAAOQfyD3KV0hs+Hn+f/p9C3TRYmJLNi8SEO7vytCetC+d9YsGggKACIa4kzaoOMIc4AAA5B/IPcpXSGz4ef5/+n0LdNFiYks2LxIQ7u/K0J60L531iwaCAoAIhriTNqg4whzgAADkH8g9yldIbPh5/n/6fQt00WJiSzYvEhDu78rQnrQvnfWLBoICgAiGuJM2qDjCHOAAAOQfyD3KV0hs+Hn+f/p9C3TRYmJLNi8SEO7vytCetC+d9YsGggKACIa4kzaoOMIc4AAA5B/IPcpXSGz4ef5/+n0LdNFiYks2LxIQ7u/K0J60L531iwaCAoAIhriTNqg4whzgAADkH8g9yldIbPh5/n/6fQt00WJiSzYvEhDu78rQnrQvnfWLBoICgAiGuJM2qDjCHOAAAOQfyD3KV0hs+Hn+f/p9C3TRYmJLNi8SEO7vytCetC+d9YsGggKACIa4kzaoOMIc4AAA5B/IPcpXSGz4ef5/+n0LdNFiYks2LxIQ7u/K0J60L531iwaCAoAIhriTNqg4whzgAADkH8g9yldIbPh5/n/6fQt00WJiSzYvEhDu78rQnrQvnfWLBoICgAiGuJM2qDjCHOAAAOQfyD3KV0hs+Hn+f/p9C3TRYmJLNi8SEO7vytCetC+d9YsGggKACIa4kzaoOMIc4AAA5B/IPcpXSGz4ef5/+n0LdNFiYks2LxIQ7u/K0J60L531iwaCAoAIhriTNqg4whzgAADkH8g9yldIbPh5/n/6fQt00WJiSzYvEhDu78rQnrQvnfWLBoICgAiGuJM2qDjCHOAAAOQfyD3KV0hs+Hn+f/p9C3TRYmJLNi8SEO7vytCetC+d9YsGggKACIa4kzaoOMIc4AAA5B/IPcpXSGz4ef5/+n0LdNFiYks2LxIQ7u/K0J60L531iwaCAoAIhriTNqg4whzgAADkH8g9yldIbPh5/n/6fQt00WJiSzYvEhDu78rQnrQvnfWLBoICgAiGuJM2qDjCHOAAAOQfyD3KV0hs+Hn+f/p9C3TRYmJLNi8SEO7vytCetC+d9YsGggKACIa4kzaoOMIc4AAA5B/IPcpXSGz4ef5/+n0LdNFiYks2LxIQ7u/K0J60L531iwaCAoAIhriTNqg4whzgAADkH8g9yldIbPh5/n/6fQt00WJiSzYvEhDu78rQnrQvnfWLBoICgAiGuJM2qDjCHOAAAOQfyD3KV0hs+Hn+f/p9C3TRYmJLNi8SEO7vytCetC+d9YsGggKACIa4kzaoOMIc4AAA5B/IPcpXSGz4ef5/+n0LdNFiYks2LxIQ7u/K0J60L531iwaCAoAIhriTNqg4whzgAADkH8g9yldIbPh5/n/6fQt00WJiSzYvEhDu78rQnrQvnfWLBoICgAiGuJM2qDjCHOAAAOQfyD3KV0hs+Hn+f/p9C3TRYmJLNi8SEO7vytCetC+d9YsGggKACIa4kzaoOMIc4AAA5B/IPcpXSGz4ef5/+n0LdNFiYks2LxIQ7u/K0J60L531iwaCAoAIhriTNqg4whzgAADkH8g9yldIbPh5/n/6fQt00WJiSzYvEhDu78rQnrQvnfWLBoICgAiGuJM2qDjCHOAAAOQfyD3KV0hs+Hn+f/p9C3TRYmJLNi8SEO7vytCetC+d9YsGggKACIa4kzaoOMIc4AAA5B/IPcpXSGz4ef5/+n0LdNFiYks2LxIQ7u/K0J60L531iwaCAoAIhriTNqg4whzgAADkH8g9yldIbPh5/n/6fQt00WJiSzYvEhDu78rQnrQvnfWLBoICgAiGuJM2qDjCHOAAAOQfyD3KV0hs+Hn+f/p9C3TRYmJLNi8SEO7vytCetC+d9YsGggKACIa4kzaoOMIc4AAA5B/IPcpXSGz4ef5/+n0LdNFiYks2LxIQ7u/K0J60L531iwaCAoAIhriTNqg4whzgAADkH8g9yldIbPh5/n/6fQt00WJiSzYvEhDu78rQnrQvnfWLBoICgAiGuJM2qDjCHOAAAOQfyD3KV0hs+Hn+f/p9C3TRYmJLNi8SEO7vytCetC+d9YsGggKACIa4kzaoOMIc4AAA5B/IPcpXSGz4ef5/+n0LdNFiYks2LxIQ7u/K0J60L531iwaCAoAIhriTNqg4whzgAADkH8g9yldIbPh5/n/6fQt00WJiSzYvEhDu78rQnrQvnfWLBoICgAiGuJM2qDjCHOAAAOQfyD3KV0hs+Hn+f/p9C3TRYmJLNi8SEO7vytCetC+d9YsGggKACIa4kzaoOMIc4AAA5B/IPcpXSGz4ef5/+n0LdNFiYks2LxIQ7u/K0J60L531iwaCAoAIhriTNqg4whzgAADkH8g9yldIbPh5/n/6fQt00WJiSzYvEhDu78rQnrQvnfWLBoICgAiGuJM2qDjCHOAAAOQfyD3KV0hs+Hn+f/p9C3TRYmJLNi8SEO7vytCetC+d9YsGggKACIa4kzaoOMIc4AAA5B/IPcpXSGz4ef5/+n0LdNFiYks2LxIQ7u/K0J60L531iwaCAoAIhriTNqg4whzgAADkH8g9yldIbPh5/n/6fQt00WJiSzYvEhDu78rQnrQvnfWLBoICgAiGuJM2qDjCHOAAAOQfyD3KV0hs+Hn+f/p9C3TRYmJLNi8SEO7vytCetC+d9YsGggKACIa4kzaoOMIc4AAA5B/IPcpXSGz4ef5/+n0LdNFiYks2LxIQ7u/K0J60L531iwaCAoAIhriTNqg4whzgAADkH8g9yldIbPh5/n/6fQt00WJiSzYvEhDu78rQnrQvnfWLBoICgAiGuJM2qDjCHOAAAOQfyD3KV0hs+Hn+f/p9C3TRYmJLNi8SEO7vytCetC+d9YsGggKACIa4kzaoOMIc4AAA5B/IPcpXSGz4ef5/+n0LdNFiYks2LxIQ7u/K0J60L531iwaCAoAIhriTNqg4whzgAADkH8g9yldIbPh5/n/6fQt00WJiSzYvEhDu78rQnrQvnfWLBoICgAiGuJM2qDjCHOAAAOQfyD3KV0hs+Hn+f/p9C3TRYmJLNi8SEO7vytCetC+d9YsGggKACIa4kzaoOMIc4AAA5B/IPcpXSGz4ef5/+n0LdNFiYks2LxIQ7u/K0J60L531iwaCAoAIhriTNqg4whzgAADkH8g9yldIbPh5/n/6fQt00WJiSzYvEhDu78rQnrQvnfWLBoICgAiGuJM2qDjCHOAAAOQfyD3KV0hs+Hn+f/p9C3TRYmJLNi8SEO7vytCetC+d9YsGggKACIa4kzaoOMIc4AAA5B/IPcpXSGz4ef5/+n0LdNFiYks2LxIQ7u/K0J60L531iwaCAoAIhriTNqg4whzgAADkH8g9yldIbPh5/n/6fQt00WJiSzYvEhDu78rQnrQvnfWLBoICgAiGuJM2qDjCHOAAAOQfyD3KV0hs+Hn+f/p9C3TRYmJLNi8SEO7vytCetC+d9YsGggKACIa4kzaoOMIc4AAA5B/IPcpXSGz4ef5/+n0LdNFiYks2LxIQ7u/K0J60L531iwaCAoAIhriTNqg4whzgAADkH8g9yldIbPh5/n/6fQt00WJiSzYvEhDu78rQnrQvnfWLBoICgAiGuJM2qDjCHOAAAOQfyD3KV0hs+Hn+f/p9C3TRYmJLNi8SEO7vytCetC+d9YsGggKACIa4kzaoOMIc4AAA5B/IPcpXSGz4ef5/+n0LdNFiYks2LxIQ7u/K0J60L531iwaCAoAIhriTNqg4whzgAADkH8g9yldIbPh5/n/6fQt00WJiSzYvEhDu78rQnrQvnfWLBoICgAiGuJM2qDjCHOAAAOQfyD3KV0hs+Hn+f/p9C3TRYmJLNi8SEO7vytCetC+d9YsGggKACIa4kzaoOMIc4AAA5B/IPcpXSGz4ef5/+n0LdNFiYks2LxIQ7u/K0J60L531iwaCAoAIhriTNqg4whzgAADkH8g9yldIbPh5/n/6fQt00WJiSzYvEhDu78rQnrQvnfWLBoICgAiGuJM2qDjCHOAAAOQfyD3KV0hs+Hn+f/p9C3TRYmJLNi8SEO7vytCetC+d9YsGggKACIa4kzaoOMIc4AAA5B/IPcpXSGz4ef5/+n0LdNFiYks2LxIQ7u/K0J60L531iwaCAoAIhriTNqg4whzgAADkH8g9yldIbPh5/n/6fQt00WJiSzYvEhDu78rQnrQvnfWLBoICgAiGuJM2qDjCHOAAAOQfyD3KV0hs+Hn+f/p9C3TRYmJLNi8SEO7vytCetC+d9YsGggKACIa4kzaoOMIc4AAA5B/IPcpXSGz4ef5/+n0LdNFiYks2LxIQ7u/K0J60L531iwaCAoAIhriTNqg4whzgAADkH8g9yldIbPh5/n/6fQt00WJiSzYvEhDu78rQnrQvnfWLBoICgAiGuJM2qDjCHOAAAOQfyD3KV0hs+Hn+f/p9C3TRYmJLNi8SEO7vytCetC+d9YsGggKACIa4kzaoOMIc4AAA5B/IPcpXSGz4ef5/+n0LdNFiYks2LxIQ7u/K0J60L531iwaCAoAIhriTNqg4whzgAADkH8g9yldIbPh5/n/6fQt00WJiSzYvEhDu78rQnrQvnfWLBoICgAiGuJM2qDjCHOAAAOQfyD3KV0hs+Hn+f/p9C3TRYmJLNi8SEO7vytCetC+d9YsGggKACIa4kzaoOMIc4AAA5B/IPcpXSGz4ef5/+n0LdNFiYks2LxIQ7u/K0J60L531iwaCAoAIhriTNqg4whzgAADkH8g9yldIbPh5/n/6fQt00WJiSzYvEhDu78rQnrQvnfWLBoICgAiGuJM2qDjCHOAAAOQfyD3KV0hs+Hn+f/p9C3TRYmJLNi8SEO7vytCetC+d9YsGggKACIa4kzaoOMIc4AAA5B/IPcpXSGz4ef5/+n0LdNFiYks2LxIQ7u/K0J60L531iwaCAoAIhriTNqg4whzgAADkH8g9yldIbPh5/n/6fQt00WJiSzYvEhDu78rQnrQvnfWLBoICgAiGuJM2qDjCHOAAAOQfyD3KV0hs+Hn+f/p9C3TRYmJLNi8SEO7vytCetC+d9YsGggKACIa4kzaoOMIc4AAA5B/IPcpXSGz4ef5/+n0LdNFiYks2LxIQ7u/K0J60L531iwaCAoAIhriTNqg4whzgAADkH8g9yldIbPh5/n/6fQt00WJiSzYvEhDu78rQnrQvnfWLBoICgAiGuJM2qDjCHOAAAOQfyD3KV0hs+Hn+f/p9C3TRYmJLNi8SEO7vytCetC+d9YsGggKACIa4kzaoOMIc4AAA5B/IPcpXSGz4ef5/+n0LdNFiYks2LxIQ7u/K0J60L531iwaCAoAIhriTNqg4whzgAADkH8g9yldIbPh5/n/6fQt00WJiSzYvEhDu78rQnrQvnfWLBoICgAiGuJM2qDjCHOAAAOQfyD3KV0hs+Hn+f/p9C3TRYmJLNi8SEO7vytCetC+d9YsGggKACIa4kzaoOMIc4AAA5B/IPcpXSGz4ef5/+n0LdNFiYks2LxIQ7u/K0J60L531iwaCAoAIhriTNqg4whzgAADkH8g9yldIbPh5/n/6fQt00WJiSzYvEhDu78rQnrQvnfWLBoICgAiGuJM2qDjCHOAAAOQfyD3KV0hs+Hn+f/p9C3TRYmJLNi8SEO7vytCetC+d9YsGggKACIa4kzaoOMIc4AAA5B/IPcpXSGz4ef5/+n0LdNFiYks2LxIQ7u/K0J60L531iwaCAoAIhriTNqg4whzgAADkH8g9yldIbPh5/n/6fQt00WJiSzYvEhDu78rQnrQvnfWLBoICgAiGuJM2qDjCHOAAAOQfyD3KV0hs+Hn+f/p9C3TRYmJLNi8SEO7vytCetC+d9YsGggKACIa4kzaoOMIc4AAA5B/IPcpXSGz4ef5/+n0LdNFiYks2LxIQ7u/K0J60L531iwaCAoAIhriTNqg4whzgAADkH8g9yldIbPh5/n/6fQt00WJiSzYvEhDu78rQnrQvnfWLBoICgAiGuJM2qDjCHOAAAOQfyD3KV0hs+Hn+f/p9C3TRYmJLNi8SEO7vytCetC+d9YsGggKACIa4kzaoOMIc4AAA5B/IPcpXSGz4ef5/+n0LdNFiYks2LxIQ7u/K0J60L531iwaCAoAIhriTNqg4whzgAADkH8g9yldIbPh5/n/6fQt00WJiSzYvEhDu78rQnrQvnfWLBoICgAiGuJM2qDjCHOAAAOQfyD3KV0hs+Hn+f/p9C3TRYmJLNi8SEO7vytCetC+d9YsGggKACIa4kzaoOMIc4AAA5B/IPcpXSGz4ef5/+n0LdNFiYks2LxIQ7u/K0J60L531iwaCAoAIhriTNqg4whzgAADkH8g9yldIbPh5/n/6fQt00WJiSzYvEhDu78rQnrQvnfWLBoICgAiGuJM2qDjCHOAAAOQfyD3KV0hs+Hn+f/p9C3TRYmJLNi8SEO7vytCetC+d9YsGggKACIa4kzaoOMIc4AAA5B/IPcpXSGz4ef5/+n0LdNFiYks2LxIQ7u/K0J60L531iwaCAoAIhriTNqg4whzgAADkH8g9yldIbPh5/n/6fQt00WJiSzYvEhDu78rQnrQvnfWLBoICgAiGuJM2qDjCHOAAAOQfyD3KV0hs+Hn+f/p9C3TRYmJLNi8SEO7vytCetC+d9YsGggKACIa4kzaoOMIc4AAA5B/IPcpXSGz4ef5/+n0LdNFiYks2LxIQ7u/K0J60L531iwaCAoAIhriTNqg4whzgAADkH8g9yldIbPh5/n/6fQt00WJiSzYvEhDu78rQnrQvnfWLBoICgAiGuJM2qDjCHOAAAOQfyD3KV0hs+Hn+f/p9C3TRYmJLNi8SEO7vytCetC+d9YsGggKACIa4kzaoOMIc4AAA5B/IPcpXSGz4ef5/+n0LdNFiYks2LxIQ7u/K0J60L531iwaCAoAIhriTNqg4whzgAADkH8g9yldIbPh5/n/6fQt00WJiSzYvEhDu78rQnrQvnfWLBoICgAiGuJM2qDjCHOAAAOQfyD3KV0hs+Hn+f/p9C3TRYmJLNi8SEO7vytCetC+d9YsGggKACIa4kzaoOMIc4AAA5B/IPcpXSGz4ef5/+n0LdNFiYks2LxIQ7u/K0J60L531iwaCAoAIhriTNqg4whzgAADkH8g9yldIbPh5/n/6fQt00WJiSzYvEhDu78rQnrQvnfWLBoICgAiGuJM2qDjCHOAAAOQfyD3KV0hs+Hn+f/p9C3TRYmJLNi8SEO7vytCetC+d9YsGggKACIa4kzaoOMIc4AAA5B/IPcpXSGz4ef5/+n0LdNFiYks2LxIQ7u/K0J60L531iwaCAoAIhriTNqg4whzgAADkH8g9yldIbPh5/n/6fQt00WJiSzYvEhDu78rQnrQvnfWLBoICgAiGuJM2qDjCHOAAAOQfyD3KV0hs+Hn+f/p9C3TRYmJLNi8SEO7vytCetC+d9YsGggKACIa4kzaoOMIc4AAA5B/IPcpXSGz4ef5/+n0LdNFiYks2LxIQ7u/K0J60L531iwaCAoAIhriTNqg4whzgAADkH8g9yldIbPh5/n/6fQt00WJiSzYvEhDu78rQnrQvnfWLBoICgAiGuJM2qDjCHOAAAOQfyD3KV0hs+Hn+f/p9C3TRYmJLNi8SEO7vytCetC+d9YsGggKACIa4kzaoOMIc4AAA5B/IPcpXSGz4ef5/+n0LdNFiYks2LxIQ7u/K0J60L531iwaCAoAIhriTNqg4whzgAADkH8g9yldIbPh5/n/6fQt00WJiSzYvEhDu78rQnrQvnfWLBoICgAiGuJM2qDjCHOAAAOQfyD3KV0hs+Hn+f/p9C3TRYmJLNi8SEO7vytCetC+d9YsGggKACIa4kzaoOMIc4AAA5B/IPcpXSGz4ef5/+n0LdNFiYks2LxIQ7u/K0J60L531iwaCAoAIhriTNqg4whzgAADkH8g9yldIbPh5/n/6fQt00WJiSzYvEhDu78rQnrQvnfWLBoICgAiGuJM2qDjCHOAAAOQfyD3KV0hs+Hn+f/p9C3TRYmJLNi8SEO7vytCetC+d9YsGggKACIa4kzaoOMIc4AAA5B/IPcpXSGz4ef5/+n0LdNFiYks2LxIQ7u/K0J60L531iwaCAoAIhriTNqg4whzgAADkH8g9yldIbPh5/n/6fQt00WJiSzYvEhDu78rQnrQvnfWLBoICgAiGuJM2qDjCHOAAAOQfyD3KV0hs+Hn+f/p9C3TRYmJLNi8SEO7vytCetC+d9YsGggKACIa4kzaoOMIc4AAA5B/IPcpXSGz4ef5/+n0LdNFiYks2LxIQ7u/K0J60L531iwaCAoAIhriTNqg4whzgAADkH8g9yldIbPh5/n/6fQt00WJiSzYvEhDu78rQnrQvnfWLBoICgAiGuJM2qDjCHOAAAOQfyD3KV0hs+Hn+f/p9C3TRYmJLNi8SEO7vytCetC+d9YsGggKACIa4kzaoOMIc4AAA5B/IPcpXSGz4ef5/+n0LdNFiYks2LxIQ7u/K0J60L531iwaCAoAIhriTNqg4whzgAADkH8g9yldIbPh5/n/6fQt00WJiSzYvEhDu78rQnrQvnfWLBoICgAiGuJM2qDjCHOAAAOQfyD3KV0hs+Hn+f/p9C3TRYmJLNi8SEO7vytCetC+d9YsGggKACIa4kzaoOMIc4AAA5B/IPcpXSGz4ef5/+n0LdNFiYks2LxIQ7u/K0J60L531iwaCAoAIhriTNqg4whzgAADkH8g9yldIbPh5/n/6fQt00WJiSzYvEhDu78rQnrQvnfWLBoICgAiGuJM2qDjCHOAAAOQfyD3KV0hs+Hn+f/p9C3TRYmJLNi8SEO7vytCetC+d9YsGggKACIa4kzaoOMIc4AAA5B/IPcpXSGz4ef5/+n0LdNFiYks2LxIQ7u/K0J60L531iwaCAoAIhriTNqg4whzgAADkH8g9yldIbPh5/n/6fQt00WJiSzYvEhDu78rQnrQvnfWLBoICgAiGuJM2qDjCHOAAAOQfyD3KV0hs+Hn+f/p9C3TRYmJLNi8SEO7vytCetC+d9YsGggKACIa4kzaoOMIc4AAA5B/IPcpXSGz4ef5/+n0LdNFiYks2LxIQ7u/K0J60L531iwaCAoAIhriTNqg4whzgAADkH8g9yldIbPh5/n/6fQt00WJiSzYvEhDu78rQnrQvnfWLBoICgAiGuJM2qDjCHOAAAOQfyD3KV0hs+Hn+f/p9C3TRYmJLNi8SEO7vytCetC+d9YsGggKACIa4kzaoOMIc4AAA5B/IPcpXSGz4ef5/+n0LdNFiYks2LxIQ7u/K0J60L531iwaCAoAIhriTNqg4whzgAADkH8g9yldIbPh5/n/6fQt00WJiSzYvEhDu78rQnrQvnfWLBoICgAiGuJM2qDjCHOAAAOQfyD3KV0hs+Hn+f/p9C3TRYmJLNi8SEO7vytCetC+d9YsGggKACIa4kzaoOMIc4AAA5B/IPcpXSGz4ef5/+n0LdNFiYks2LxIQ7u/K0J60L531iwaCAoAIhriTNqg4whzgAADkH8g9yldIbPh5/n/6fQt00WJiSzYvEhDu78rQnrQvnfWLBoICgAiGuJM2qDjCHOAAAOQfyD3KV0hs+Hn+f/p9C3TRYmJLNi8SEO7vytCetC+d9YsGggKACIa4kzaoOMIc4AAA5B/IPcpXSGz4ef5/+n0LdNFiYks2LxIQ7u/K0J60L531iwaCAoAIhriTNqg4whzgAADkH8g9yldIbPh5/n/6fQt00WJiSzYvEhDu78rQnrQvnfWLBoICgAiGuJM2qDjCHOAAAOQfyD3KV0hs+Hn+f/p9C3TRYmJLNi8SEO7vytCetC+d9YsGggKACIa4kzaoOMIc4AAA5B/IPcpXSGz4ef5/+n0LdNFiYks2LxIQ7u/K0J60L531iwaCAoAIhriTNqg4whzgAADkH8g9yldIbPh5/n/6fQt00WJiSzYvEhDu78rQnrQvnfWLBoICgAiGuJM2qDjCHOAAAOQfyD3KV0hs+Hn+f/p9C3TRYmJLNi8SEO7vytCetC+d9YsGggKACIa4kzaoOMIc4AAA5B/IPcpXSGz4ef5/+n0LdNFiYks2LxIQ7u/K0J60L531iwaCAoAIhriTNqg4whzgAADkH8g9yldIbPh5/n/6fQt00WJiSzYvEhDu78rQnrQvnfWLBoICgAiGuJM2qDjCHOAAAOQfyD3KV0hs+Hn+f/p9C3TRYmJLNi8SEO7vytCetC+d9YsGggKACIa4kzaoOMIc4AAA5B/IPcpXSGz4ef5/+n0LdNFiYks2LxIQ7u/K0J60L531iwaCAoAIhriTNqg4whzgAADkH8g9yldIbPh5/n/6fQt00WJiSzYvEhDu78rQnrQvnfWLBoICgAiGuJM2qDjCHOAAAOQfyD3KV0hs+Hn+f/p9C3TRYmJLNi8SEO7vytCetC+d9YsGggKACIa4kzaoOMIc4AAA5B/IPcpXSGz4ef5/+n0LdNFiYks2LxIQ7u/K0J60L531iwaCAoAIhriTNqg4whzgAADkH8g9yldIbPh5/n/6fQt00WJiSzYvEhDu78rQnrQvnfWLBoICgAiGuJM2qDjCHOAAAOQfyD3KV0hs+Hn+f/p9C3TRYmJLNi8SEO7vytCetC+d9YsGggKACIa4kzaoOMIc4AAA5B/IPcpXSGz4ef5/+n0LdNFiYks2LxIQ7u/K0J60L531iwaCAoAIhriTNqg4whzgAADkH8g9yldIbPh5/n/6fQt00WJiSzYvEhDu78rQnrQvnfWLBoICgAiGuJM2qDjCHOAAAOQfyD3KV0hs+Hn+f/p9C3TRYmJLNi8SEO7vytCetC+d9YsGggKACIa4kzaoOMIc4AAA5B/IPcpXSGz4ef5/+n0LdNFiYks2LxIQ7u/K0J60L531iwaCAoAIhriTNqg4whzgAADkH8g9yldIbPh5/n/6fQt00WJiSzYvEhDu78rQnrQvnfWLBoICgAiGuJM2qDjCHOAAAOQfyD3KV0hs+Hn+f/p9C3TRYmJLNi8SEO7vytCetC+d9YsGggKACIa4kzaoOMIc4AAA5B/IPcpXSGz4ef5/+n0LdNFiYks2LxIQ7u/K0J60L531iwaCAoAIhriTNqg4whzgAADkH8g9yldIbPh5/n/6fQt00WJiSzYvEhDu78rQnrQvnfWLBoICgAiGuJM2qDjCHOAAAOQfyD3KV0hs+Hn+f/p9C3TRYmJLNi8SEO7vytCetC+d9YsGggKACIa4kzaoOMIc4AAA5B/IPcpXSGz4ef5/+n0LdNFiYks2LxIQ7u/K0J60L531iwaCAoAIhriTNqg4whzgAADkH8g9yldIbPh5/n/6fQt00WJiSzYvEhDu78rQnrQvnfWLBoICgAiGuJM2qDjCHOAAAOQfyD3KV0hs+Hn+f/p9C3TRYmJLNi8SEO7vytCetC+d9YsGggKACIa4kzaoOMIc4AAA5B/IPcpXSGz4ef5/+n0LdNFiYks2LxIQ7u/K0J60L531iwaCAoAIhriTNqg4whzgAADkH8g9yldIbPh5/n/6fQt00WJiSzYvEhDu78rQnrQvnfWLBoICgAiGuJM2qDjCHOAAAOQfyD3KV0hs+Hn+f/p9C3TRYmJLNi8SEO7vytCetC+d9YsGggKACIa4kzaoOMIc4AAA5B/IPcpXSGz4ef5/+n0LdNFiYks2LxIQ7u/K0J60L531iwaCAoAIhriTNqg4whzgAADkH8g9yldIbPh5/n/6fQt00WJiSzYvEhDu78rQnrQvnfWLBoICgAiGuJM2qDjCHOAAAOQfyD3KV0hs+Hn+f/p9C3TRYmJLNi8SEO7vytCetC+d9YsGggKACIa4kzaoOMIc4AAA5B/IPcpXSGz4ef5/+n0LdNFiYks2LxIQ7u/K0J60L531iwaCAoAIhriTNqg4whzgAADkH8g9yldIbPh5/n/6fQt00WJiSzYvEhDu78rQnrQvnfWLBoICgAiGuJM2qDjCHOAAAOQfyD3KV0hs+Hn+f/p9C3TRYmJLNi8SEO7vytCetC+d9YsGggKACIa4kzaoOMIc4AAA5B/IPcpXSGz4ef5/+n0LdNFiYks2LxIQ7u/K0J60L531iwaCAoAIhriTNqg4whzgAADkH8g9yldIbPh5/n/6fQt00WJiSzYvEhDu78rQnrQvnfWLBoICgAiGuJM2qDjCHOAAAOQfyD3KV0hs+Hn+f/p9C3TRYmJLNi8SEO7vytCetC+d9YsGggKACIa4kzaoOMIc4AAA5B/IPcpXSGz4ef5/+n0LdNFiYks2LxIQ7u/K0J60L531iwaCAoAIhriTNqg4whzgAADkH8g9yldIbPh5/n/6fQt00WJiSzYvEhDu78rQnrQvnfWLBoICgAiGuJM2qDjCHOAAAOQfyD3KV0hs+Hn+f/p9C3TRYmJLNi8SEO7vytCetC+d9YsGggKACIa4kzaoOMIc4AAA5B/IPcpXSGz4ef5/+n0LdNFiYks2LxIQ7u/K0J60L531iwaCAoAIhriTNqg4whzgAADkH8g9yldIbPh5/n/6fQt00WJiSzYvEhDu78rQnrQvnfWLBoICgAiGuJM2qDjCHOAAAOQfyD3KV0hs+Hn+f/p9C3TRYmJLNi8SEO7vytCetC+d9YsGggKACIa4kzaoOMIc4AAA5B/IPcpXSGz4ef5/+n0LdNFiYks2LxIQ7u/K0J60L531iwaCAoAIhriTNqg4whzgAADkH8g9yldIbPh5/n/6fQt00WJiSzYvEhDu78rQnrQvnfWLBoICgAiGuJM2qDjCHOAAAOQfyD3KV0hs+Hn+f/p9C3TRYmJLNi8SEO7vytCetC+d9YsGggKACIa4kzaoOMIc4AAA5B/IPcpXSGz4ef5/+n0LdNFiYks2LxIQ7u/K0J60L531iwaCAoAIhriTNqg4whzgAADkH8g9yldIbPh5/n/6fQt00WJiSzYvEhDu78rQnrQvnfWLBoICgAiGuJM2qDjCHOAAAOQfyD3KV0hs+Hn+f/p9C3TRYmJLNi8SEO7vytCetC+d9YsGggKACIa4kzaoOMIc4AAA5B/IPcpXSGz4ef5/+n0LdNFiYks2LxIQ7u/K0J60L531iwaCAoAIhriTNqg4whzgAADkH8g9yldIbPh5/n/6fQt00WJiSzYvEhDu78rQnrQvnfWLBoICgAiGuJM2qDjCHOAAAOQfyD3KV0hs+Hn+f/p9C3TRYmJLNi8SEO7vytCetC+d9YsGggKACIa4kzaoOMIc4AAA5B/IPcpXSGz4ef5/+n0LdNFiYks2LxIQ7u/K0J60L531iwaCAoAIhriTNqg4whzgAADkH8g9yldIbPh5/n/6fQt00WJiSzYvEhDu78rQnrQvnfWLBoICgAiGuJM2qDjCHOAAAOQfyD3KV0hs+Hn+f/p9C3TRYmJLNi8SEO7vytCetC+d9YsGggKACIa4kzaoOMIc4AAA5B/IPcpXSGz4ef5/+n0LdNFiYks2LxIQ7u/K0J60L531iwaCAoAIhriTNqg4whzgAADkH8g9yldIbPh5/n/6fQt00WJiSzYvEhDu78rQnrQvnfWLBoICgAiGuJM2qDjCHOAAAOQfyD3KV0hs+Hn+f/p9C3TRYmJLNi8SEO7vytCetC+d9YsGggKACIa4kzaoOMIc4AAA5B/IPcpXSGz4ef5/+n0LdNFiYks2LxIQ7u/K0J60L531iwaCAoAIhriTNqg4whzgAADkH8g9yldIbPh5/n/6fQt00WJiSzYvEhDu78rQnrQvnfWLBoICgAiGuJM2qDjCHOAAAOQfyD3KV0hs+Hn+f/p9C3TRYmJLNi8SEO7vytCetC+d9YsGggKACIa4kzaoOMIc4AAA5B/IPcpXSGz4ef5/+n0LdNFiYks2LxIQ7u/K0J60L531iwaCAoAIhriTNqg4whzgAADkH8g9yldIbPh5/n/6fQt00WJiSzYvEhDu78rQnrQvnfWLBoICgAiGuJM2qDjCHOAAAOQfyD3KV0hs+Hn+f/p9C3TRYmJLNi8SEO7vytCetC+d9YsGggKACIa4kzaoOMIc4AAA5B/IPcpXSGz4ef5/+n0LdNFiYks2LxIQ7u/K0J60L531iwaCAoAIhriTNqg4whzgAADkH8g9yldIbPh5/n/6fQt00WJiSzYvEhDu78rQnrQvnfWLBoICgAiGuJM2qDjCHOAAAOQfyD3KV0hs+Hn+f/p9C3TRYmJLNi8SEO7vytCetC+d9YsGggKACIa4kzaoOMIc4AAA5B/IPcpXSGz4ef5/+n0LdNFiYks2LxIQ7u/K0J60L531iwaCAoAIhriTNqg4whzgAADkH8g9yldIbPh5/n/6fQt00WJiSzYvEhDu78rQnrQvnfWLBoICgAiGuJM2qDjCHOAAAOQfyD3KV0hs+Hn+f/p9C3TRYmJLNi8SEO7vytCetC+d9YsGggKACIa4kzaoOMIc4AAA5B/IPcpXSGz4ef5/+n0LdNFiYks2LxIQ7u/K0J60L531iwaCAoAIhriTNqg4whzgAADkH8g9yldIbPh5/n/6fQt00WJiSzYvEhDu78rQnrQvnfWLBoICgAiGuJM2qDjCHOAAAOQfyD3KV0hs+Hn+f/p9C3TRYmJLNi8SEO7vytCetC+d9YsGggKACIa4kzaoOMIc4AAA5B/IPcpXSGz4ef5/+n0LdNFiYks2LxIQ7u/K0J60L531iwaCAoAIhriTNqg4whzgAADkH8g9yldIbPh5/n/6fQt00WJiSzYvEhDu78rQnrQvnfWLBoICgAiGuJM2qDjCHOAAAOQfyD3KV0hs+Hn+f/p9C3TRYmJLNi8SEO7vytCetC+d9YsGggKACIa4kzaoOMIc4AAA5B/IPcpXSGz4ef5/+n0LdNFiYks2LxIQ7u/K0J60L531iwaCAoAIhriTNqg4whzgAADkH8g9yldIbPh5/n/6fQt00WJiSzYvEhDu78rQnrQvnfWLBoICgAiGuJM2qDjCHOAAAOQfyD3KV0hs+Hn+f/p9C3TRYmJLNi8SEO7vytCetC+d9YsGggKACIa4kzaoOMIc4AAA5B/IPcpXSGz4ef5/+n0LdNFiYks2LxIQ7u/K0J60L531iwaCAoAIhriTNqg4whzgAADkH8g9yldIbPh5/n/6fQt00WJiSzYvEhDu78rQnrQvnfWLBoICgAiGuJM2qDjCHOAAAOQfyD3KV0hs+Hn+f/p9C3TRYmJLNi8SEO7vytCetC+d9YsGggKACIa4kzaoOMIc4AAA5B/IPcpXSGz4ef5/+n0LdNFiYks2LxIQ7u/K0J60L531iwaCAoAIhriTNqg4whzgAADkH8g9yldIbPh5/n/6fQt00WJiSzYvEhDu78rQnrQvnfWLBoICgAiGuJM2qDjCHOAAAOQfyD3KV0hs+Hn+f/p9C3TRYmJLNi8SEO7vytCetC+d9YsGggKACIa4kzaoOMIc4AAA5B/IPcpXSGz4ef5/+n0LdNFiYks2LxIQ7u/K0J60L531iwaCAoAIhriTNqg4whzgAADkH8g9yldIbPh5/n/6fQt00WJiSzYvEhDu78rQnrQvnfWLBoICgAiGuJM2qDjCHOAAAOQfyD3KV0hs+Hn+f/p9C3TRYmJLNi8SEO7vytCetC+d9YsGggKACIa4kzaoOMIc4AAA5B/IPcpXSGz4ef5/+n0LdNFiYks2LxIQ7u/K0J60L531iwaCAoAIhriTNqg4whzgAADkH8g9yldIbPh5/n/6fQt00WJiSzYvEhDu78rQnrQvnfWLBoICgAiGuJM2qDjCHOAAAOQfyD3KV0hs+Hn+f/p9C3TRYmJLNi8SEO7vytCetC+d9YsGggKACIa4kzaoOMIc4AAA5B/IPcpXSGz4ef9/+n0LdNFiYks2LxIQ7u/K0J60L531iwaCAoAIhriTNqg4whzgAADkH8g9yldIbPh5/n/6fQt00WJiSzYvEhDu78rQnrQvnfWLBoICgAiGuJM2qDjCHOA=\" type=\"audio/wav\" />\n",
       "                    Your browser does not support the audio element.\n",
       "                </audio>\n",
       "              "
      ],
      "text/plain": [
       "<IPython.lib.display.Audio object>"
      ]
     },
     "execution_count": 44,
     "metadata": {},
     "output_type": "execute_result"
    }
   ],
   "source": [
    "# GENERAMOS LA LISTA DE PRODUCTOS TOTAL\n",
    "\n",
    "#Elegimos la cantidad de palabras del corpus (texto)\n",
    "n_words = 1\n",
    "product_id = []\n",
    "product_list_name = []\n",
    "product_category = []\n",
    "\n",
    "for i in range(df.items_id.shape[0]):\n",
    "    for j,k,t in zip(df.items_id[i], df.items_name[i], df.v2ProductCategory[i]):\n",
    "        \n",
    "        # Naming convention needed (tomamos solo K palabras de cada producto)\n",
    "        k = \" \".join([x.lower() for x in k.split()[:n_words]])\n",
    "        \n",
    "        if j not in product_id and k not in product_list_name:\n",
    "            product_id.append(j)\n",
    "            product_list_name.append(k)\n",
    "            product_category.append(t)  \n",
    "# Alerta fin proceso            \n",
    "Audio(beep, rate=10000, autoplay=True)\n",
    "\n",
    "#30497 Limón Ácido x Kg"
   ]
  },
  {
   "cell_type": "markdown",
   "id": "485ac312-b449-4a80-a1b9-3310e63eb7ee",
   "metadata": {},
   "source": [
    "## Disclaimer\n",
    "- Aca hay un proceso de Feature Ingenieering donde estamos tomando unicamente tipos de productos y bajando cardinalidad - Ejemplo \"vino Malbec\" == \"vino Torrontes\""
   ]
  },
  {
   "cell_type": "code",
   "execution_count": 45,
   "id": "b01d1d8e-45bb-439b-904f-1444d6906121",
   "metadata": {},
   "outputs": [],
   "source": [
    "df_product = pd.DataFrame(np.array([product_id, product_list_name, product_category]).T, columns=['item_id', 'item_name', 'item_category'])"
   ]
  },
  {
   "cell_type": "code",
   "execution_count": 49,
   "id": "be3ca315-28b4-4665-87b0-7b6559079b09",
   "metadata": {},
   "outputs": [
    {
     "data": {
      "text/plain": [
       "(1072, 3)"
      ]
     },
     "execution_count": 49,
     "metadata": {},
     "output_type": "execute_result"
    }
   ],
   "source": [
    "df_product.shape"
   ]
  },
  {
   "cell_type": "code",
   "execution_count": 46,
   "id": "bfc1f9df-da64-464b-bc37-a0ac51f852af",
   "metadata": {},
   "outputs": [
    {
     "data": {
      "text/html": [
       "<div>\n",
       "<style scoped>\n",
       "    .dataframe tbody tr th:only-of-type {\n",
       "        vertical-align: middle;\n",
       "    }\n",
       "\n",
       "    .dataframe tbody tr th {\n",
       "        vertical-align: top;\n",
       "    }\n",
       "\n",
       "    .dataframe thead th {\n",
       "        text-align: right;\n",
       "    }\n",
       "</style>\n",
       "<table border=\"1\" class=\"dataframe\">\n",
       "  <thead>\n",
       "    <tr style=\"text-align: right;\">\n",
       "      <th></th>\n",
       "      <th>item_id</th>\n",
       "      <th>item_name</th>\n",
       "      <th>item_category</th>\n",
       "    </tr>\n",
       "  </thead>\n",
       "  <tbody>\n",
       "    <tr>\n",
       "      <th>0</th>\n",
       "      <td>12191</td>\n",
       "      <td>toalla</td>\n",
       "      <td>Cuidado Personal y Salud</td>\n",
       "    </tr>\n",
       "    <tr>\n",
       "      <th>1</th>\n",
       "      <td>100047729</td>\n",
       "      <td>hígado</td>\n",
       "      <td>Carnes, aves y pescados</td>\n",
       "    </tr>\n",
       "    <tr>\n",
       "      <th>2</th>\n",
       "      <td>46236</td>\n",
       "      <td>paños</td>\n",
       "      <td>Limpieza</td>\n",
       "    </tr>\n",
       "    <tr>\n",
       "      <th>3</th>\n",
       "      <td>51363</td>\n",
       "      <td>toallitas</td>\n",
       "      <td>Limpieza</td>\n",
       "    </tr>\n",
       "    <tr>\n",
       "      <th>4</th>\n",
       "      <td>46243</td>\n",
       "      <td>trapeador</td>\n",
       "      <td>Limpieza</td>\n",
       "    </tr>\n",
       "  </tbody>\n",
       "</table>\n",
       "</div>"
      ],
      "text/plain": [
       "     item_id  item_name             item_category\n",
       "0      12191     toalla  Cuidado Personal y Salud\n",
       "1  100047729     hígado   Carnes, aves y pescados\n",
       "2      46236      paños                  Limpieza\n",
       "3      51363  toallitas                  Limpieza\n",
       "4      46243  trapeador                  Limpieza"
      ]
     },
     "execution_count": 46,
     "metadata": {},
     "output_type": "execute_result"
    }
   ],
   "source": [
    "df_product.head()"
   ]
  },
  {
   "cell_type": "code",
   "execution_count": 47,
   "id": "61083d72-d99c-45c0-b92c-eb05c6787a97",
   "metadata": {},
   "outputs": [
    {
     "data": {
      "text/html": [
       "<div>\n",
       "<style scoped>\n",
       "    .dataframe tbody tr th:only-of-type {\n",
       "        vertical-align: middle;\n",
       "    }\n",
       "\n",
       "    .dataframe tbody tr th {\n",
       "        vertical-align: top;\n",
       "    }\n",
       "\n",
       "    .dataframe thead th {\n",
       "        text-align: right;\n",
       "    }\n",
       "</style>\n",
       "<table border=\"1\" class=\"dataframe\">\n",
       "  <thead>\n",
       "    <tr style=\"text-align: right;\">\n",
       "      <th></th>\n",
       "      <th>item_id</th>\n",
       "      <th>item_name</th>\n",
       "      <th>item_category</th>\n",
       "    </tr>\n",
       "  </thead>\n",
       "  <tbody>\n",
       "    <tr>\n",
       "      <th>106</th>\n",
       "      <td>5634</td>\n",
       "      <td>vino</td>\n",
       "      <td>Bebidas</td>\n",
       "    </tr>\n",
       "  </tbody>\n",
       "</table>\n",
       "</div>"
      ],
      "text/plain": [
       "    item_id item_name item_category\n",
       "106    5634      vino       Bebidas"
      ]
     },
     "execution_count": 47,
     "metadata": {},
     "output_type": "execute_result"
    }
   ],
   "source": [
    "df_product[df_product['item_name']=='vino']"
   ]
  },
  {
   "cell_type": "code",
   "execution_count": 48,
   "id": "0a579da4-72e2-4642-8b9d-00c5f51e57c6",
   "metadata": {},
   "outputs": [
    {
     "data": {
      "text/html": [
       "<div>\n",
       "<style scoped>\n",
       "    .dataframe tbody tr th:only-of-type {\n",
       "        vertical-align: middle;\n",
       "    }\n",
       "\n",
       "    .dataframe tbody tr th {\n",
       "        vertical-align: top;\n",
       "    }\n",
       "\n",
       "    .dataframe thead th {\n",
       "        text-align: right;\n",
       "    }\n",
       "</style>\n",
       "<table border=\"1\" class=\"dataframe\">\n",
       "  <thead>\n",
       "    <tr style=\"text-align: right;\">\n",
       "      <th></th>\n",
       "      <th>item_id</th>\n",
       "      <th>item_name</th>\n",
       "      <th>item_category</th>\n",
       "    </tr>\n",
       "  </thead>\n",
       "  <tbody>\n",
       "    <tr>\n",
       "      <th>360</th>\n",
       "      <td>810</td>\n",
       "      <td>new</td>\n",
       "      <td>Carnes, aves y pescados</td>\n",
       "    </tr>\n",
       "    <tr>\n",
       "      <th>869</th>\n",
       "      <td>100089290</td>\n",
       "      <td>canasta</td>\n",
       "      <td>Abarrotes</td>\n",
       "    </tr>\n",
       "    <tr>\n",
       "      <th>741</th>\n",
       "      <td>5947</td>\n",
       "      <td>limpiadora</td>\n",
       "      <td>Cuidado Personal y Salud</td>\n",
       "    </tr>\n",
       "    <tr>\n",
       "      <th>910</th>\n",
       "      <td>35726</td>\n",
       "      <td>aro</td>\n",
       "      <td>Bazar</td>\n",
       "    </tr>\n",
       "    <tr>\n",
       "      <th>777</th>\n",
       "      <td>52158</td>\n",
       "      <td>green</td>\n",
       "      <td>Abarrotes</td>\n",
       "    </tr>\n",
       "  </tbody>\n",
       "</table>\n",
       "</div>"
      ],
      "text/plain": [
       "       item_id   item_name             item_category\n",
       "360        810         new   Carnes, aves y pescados\n",
       "869  100089290     canasta                 Abarrotes\n",
       "741       5947  limpiadora  Cuidado Personal y Salud\n",
       "910      35726         aro                     Bazar\n",
       "777      52158       green                 Abarrotes"
      ]
     },
     "execution_count": 48,
     "metadata": {},
     "output_type": "execute_result"
    }
   ],
   "source": [
    "df_product.sample(5)"
   ]
  },
  {
   "cell_type": "code",
   "execution_count": 121,
   "id": "e16ee33c-25ef-4111-be5e-9578867869fe",
   "metadata": {},
   "outputs": [
    {
     "data": {
      "text/html": [
       "<div>\n",
       "<style scoped>\n",
       "    .dataframe tbody tr th:only-of-type {\n",
       "        vertical-align: middle;\n",
       "    }\n",
       "\n",
       "    .dataframe tbody tr th {\n",
       "        vertical-align: top;\n",
       "    }\n",
       "\n",
       "    .dataframe thead th {\n",
       "        text-align: right;\n",
       "    }\n",
       "</style>\n",
       "<table border=\"1\" class=\"dataframe\">\n",
       "  <thead>\n",
       "    <tr style=\"text-align: right;\">\n",
       "      <th>item_category</th>\n",
       "      <th>Abarrotes</th>\n",
       "      <th>Limpieza</th>\n",
       "      <th>Decohogar</th>\n",
       "      <th>Carnes, aves y pescados</th>\n",
       "      <th>Quesos y Fiambres</th>\n",
       "      <th>Bebidas</th>\n",
       "      <th>Cuidado Personal</th>\n",
       "      <th>Panadería, Pastelería y Comidas</th>\n",
       "      <th>Carnes, Aves y Pescados</th>\n",
       "      <th>Cuidado Personal y Salud</th>\n",
       "      <th>Congelados</th>\n",
       "      <th>Panadería y Pastelería</th>\n",
       "      <th>Electrohogar</th>\n",
       "      <th>Electro</th>\n",
       "      <th>Hogar y Colchones</th>\n",
       "      <th>Desayunos</th>\n",
       "      <th>Tecnología</th>\n",
       "      <th>Panadería, Pastelería y Comidas Preparadas</th>\n",
       "      <th>Lácteos y Huevos</th>\n",
       "      <th>Bazar</th>\n",
       "      <th>Juguetería</th>\n",
       "      <th>Bebé e Infantil</th>\n",
       "      <th>Juguetes y Juegos</th>\n",
       "      <th>Mascotas</th>\n",
       "      <th>Librería</th>\n",
       "      <th>Pollo Rostizado y Comidas Preparadas</th>\n",
       "      <th>Librería y Oficina</th>\n",
       "      <th>Deportes</th>\n",
       "      <th>Mejoramiento del Hogar</th>\n",
       "      <th>Cuidado del Bebé</th>\n",
       "      <th>Muebles</th>\n",
       "      <th>Dormitorio</th>\n",
       "      <th>Packs</th>\n",
       "      <th>Basura</th>\n",
       "    </tr>\n",
       "  </thead>\n",
       "  <tbody>\n",
       "    <tr>\n",
       "      <th>item_id</th>\n",
       "      <td>261</td>\n",
       "      <td>69</td>\n",
       "      <td>60</td>\n",
       "      <td>50</td>\n",
       "      <td>49</td>\n",
       "      <td>47</td>\n",
       "      <td>47</td>\n",
       "      <td>43</td>\n",
       "      <td>43</td>\n",
       "      <td>38</td>\n",
       "      <td>34</td>\n",
       "      <td>34</td>\n",
       "      <td>30</td>\n",
       "      <td>29</td>\n",
       "      <td>26</td>\n",
       "      <td>26</td>\n",
       "      <td>23</td>\n",
       "      <td>21</td>\n",
       "      <td>15</td>\n",
       "      <td>15</td>\n",
       "      <td>14</td>\n",
       "      <td>14</td>\n",
       "      <td>13</td>\n",
       "      <td>11</td>\n",
       "      <td>9</td>\n",
       "      <td>9</td>\n",
       "      <td>8</td>\n",
       "      <td>7</td>\n",
       "      <td>7</td>\n",
       "      <td>7</td>\n",
       "      <td>6</td>\n",
       "      <td>5</td>\n",
       "      <td>1</td>\n",
       "      <td>1</td>\n",
       "    </tr>\n",
       "    <tr>\n",
       "      <th>item_name</th>\n",
       "      <td>261</td>\n",
       "      <td>69</td>\n",
       "      <td>60</td>\n",
       "      <td>50</td>\n",
       "      <td>49</td>\n",
       "      <td>47</td>\n",
       "      <td>47</td>\n",
       "      <td>43</td>\n",
       "      <td>43</td>\n",
       "      <td>38</td>\n",
       "      <td>34</td>\n",
       "      <td>34</td>\n",
       "      <td>30</td>\n",
       "      <td>29</td>\n",
       "      <td>26</td>\n",
       "      <td>26</td>\n",
       "      <td>23</td>\n",
       "      <td>21</td>\n",
       "      <td>15</td>\n",
       "      <td>15</td>\n",
       "      <td>14</td>\n",
       "      <td>14</td>\n",
       "      <td>13</td>\n",
       "      <td>11</td>\n",
       "      <td>9</td>\n",
       "      <td>9</td>\n",
       "      <td>8</td>\n",
       "      <td>7</td>\n",
       "      <td>7</td>\n",
       "      <td>7</td>\n",
       "      <td>6</td>\n",
       "      <td>5</td>\n",
       "      <td>1</td>\n",
       "      <td>1</td>\n",
       "    </tr>\n",
       "  </tbody>\n",
       "</table>\n",
       "</div>"
      ],
      "text/plain": [
       "item_category  Abarrotes  Limpieza  Decohogar  Carnes, aves y pescados  \\\n",
       "item_id              261        69         60                       50   \n",
       "item_name            261        69         60                       50   \n",
       "\n",
       "item_category  Quesos y Fiambres  Bebidas  Cuidado Personal  \\\n",
       "item_id                       49       47                47   \n",
       "item_name                     49       47                47   \n",
       "\n",
       "item_category  Panadería, Pastelería y Comidas  Carnes, Aves y Pescados  \\\n",
       "item_id                                     43                       43   \n",
       "item_name                                   43                       43   \n",
       "\n",
       "item_category  Cuidado Personal y Salud  Congelados  Panadería y Pastelería  \\\n",
       "item_id                              38          34                      34   \n",
       "item_name                            38          34                      34   \n",
       "\n",
       "item_category  Electrohogar  Electro  Hogar y Colchones  Desayunos  \\\n",
       "item_id                  30       29                 26         26   \n",
       "item_name                30       29                 26         26   \n",
       "\n",
       "item_category  Tecnología  Panadería, Pastelería y Comidas Preparadas  \\\n",
       "item_id                23                                          21   \n",
       "item_name              23                                          21   \n",
       "\n",
       "item_category  Lácteos y Huevos  Bazar  Juguetería  Bebé e Infantil  \\\n",
       "item_id                      15     15          14               14   \n",
       "item_name                    15     15          14               14   \n",
       "\n",
       "item_category  Juguetes y Juegos  Mascotas  Librería  \\\n",
       "item_id                       13        11         9   \n",
       "item_name                     13        11         9   \n",
       "\n",
       "item_category  Pollo Rostizado y Comidas Preparadas  Librería y Oficina  \\\n",
       "item_id                                           9                   8   \n",
       "item_name                                         9                   8   \n",
       "\n",
       "item_category  Deportes  Mejoramiento del Hogar  Cuidado del Bebé  Muebles  \\\n",
       "item_id               7                       7                 7        6   \n",
       "item_name             7                       7                 7        6   \n",
       "\n",
       "item_category  Dormitorio  Packs  Basura  \n",
       "item_id                 5      1       1  \n",
       "item_name               5      1       1  "
      ]
     },
     "execution_count": 121,
     "metadata": {},
     "output_type": "execute_result"
    }
   ],
   "source": [
    "#Evaluamos la cantidad de Categorias\n",
    "df_product.groupby(\"item_category\").count().sort_values(by=\"item_id\", ascending=False).T"
   ]
  },
  {
   "cell_type": "code",
   "execution_count": 50,
   "id": "33b47433-223a-4c0c-a9c8-1a2573af4eb4",
   "metadata": {},
   "outputs": [
    {
     "data": {
      "text/html": [
       "\n",
       "                <audio  controls=\"controls\" autoplay=\"autoplay\">\n",
       "                    <source src=\"data:audio/wav;base64,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\" type=\"audio/wav\" />\n",
       "                    Your browser does not support the audio element.\n",
       "                </audio>\n",
       "              "
      ],
      "text/plain": [
       "<IPython.lib.display.Audio object>"
      ]
     },
     "execution_count": 50,
     "metadata": {},
     "output_type": "execute_result"
    }
   ],
   "source": [
    "# VECTORIZAMOS \n",
    "transaction_matrix = []\n",
    "\n",
    "# recorremos todas las transacciones\n",
    "for i in range(df.items_id.shape[0]):\n",
    "    #Creamos un vector Zeros con el largo de la cantidad de productos\n",
    "    vector = np.zeros(len(df_product))\n",
    "    for j in df.items_name[i]:\n",
    "       \n",
    "        #Aplicamos misma transformacion (\"Naming Convention\")\n",
    "        j = \" \".join([x.lower() for x in j.split()[:n_words]])\n",
    "        try:\n",
    "        # Si el producto se encuentra en la transaccion Ingresamos un 1 en el vector.\n",
    "            indice = product_list_name.index(j)\n",
    "            vector[indice] = 1\n",
    "        except ValueError:\n",
    "            pass\n",
    "    transaction_matrix.append(vector)\n",
    "Audio(beep, rate=5000, autoplay=True)"
   ]
  },
  {
   "cell_type": "code",
   "execution_count": 51,
   "id": "c8ad7b98-510f-447a-a42e-4c0c0d7a1427",
   "metadata": {},
   "outputs": [],
   "source": [
    "#transformamos la lista en array\n",
    "transaction_matrix = np.array(transaction_matrix)"
   ]
  },
  {
   "cell_type": "code",
   "execution_count": 52,
   "id": "8380e3b9-d089-4cc2-98af-5e245c63ca32",
   "metadata": {},
   "outputs": [
    {
     "data": {
      "text/plain": [
       "array([[1., 1., 1., ..., 0., 0., 0.],\n",
       "       [0., 0., 0., ..., 0., 0., 0.],\n",
       "       [0., 0., 0., ..., 0., 0., 0.],\n",
       "       ...,\n",
       "       [0., 0., 0., ..., 0., 0., 0.],\n",
       "       [0., 0., 0., ..., 0., 0., 0.],\n",
       "       [0., 0., 0., ..., 0., 0., 0.]])"
      ]
     },
     "execution_count": 52,
     "metadata": {},
     "output_type": "execute_result"
    }
   ],
   "source": [
    "transaction_matrix"
   ]
  },
  {
   "cell_type": "code",
   "execution_count": 53,
   "id": "1e20b392-843e-4074-9e63-6ec121f05140",
   "metadata": {},
   "outputs": [],
   "source": [
    "# Calculamos el suport de cada producto hardcodeado\n",
    "support = np.sum(transaction_matrix, axis=0)/transaction_matrix.shape[0] "
   ]
  },
  {
   "cell_type": "code",
   "execution_count": 54,
   "id": "ca914695-6911-454b-9860-0e9b8e5a37e0",
   "metadata": {},
   "outputs": [],
   "source": [
    "#Creamos un Dataframe para unir producto con frecuencia\n",
    "support_df = pd.DataFrame(data = [product_list_name,support],)"
   ]
  },
  {
   "cell_type": "code",
   "execution_count": 55,
   "id": "43bfa436-1092-4280-b3a1-df641e4f9111",
   "metadata": {},
   "outputs": [],
   "source": [
    "# Trasponemos el dataframe y renombramos las columnas\n",
    "support_df = support_df.T.rename(columns={0:'Producto',1: 'Soporte'})"
   ]
  },
  {
   "cell_type": "code",
   "execution_count": 56,
   "id": "fd317884-8642-4cbd-abed-28164fa4f07d",
   "metadata": {},
   "outputs": [],
   "source": [
    "#Ordenamos de mayor a menor en funcion del soporte\n",
    "support_df.sort_values(by='Soporte', ascending=False, inplace=True, ignore_index=True)"
   ]
  },
  {
   "cell_type": "code",
   "execution_count": 59,
   "id": "3174e591-43e2-472a-9614-dcb4ba079637",
   "metadata": {},
   "outputs": [
    {
     "data": {
      "text/html": [
       "<div>\n",
       "<style scoped>\n",
       "    .dataframe tbody tr th:only-of-type {\n",
       "        vertical-align: middle;\n",
       "    }\n",
       "\n",
       "    .dataframe tbody tr th {\n",
       "        vertical-align: top;\n",
       "    }\n",
       "\n",
       "    .dataframe thead th {\n",
       "        text-align: right;\n",
       "    }\n",
       "</style>\n",
       "<table border=\"1\" class=\"dataframe\">\n",
       "  <thead>\n",
       "    <tr style=\"text-align: right;\">\n",
       "      <th></th>\n",
       "      <th>Producto</th>\n",
       "      <th>Soporte</th>\n",
       "    </tr>\n",
       "  </thead>\n",
       "  <tbody>\n",
       "    <tr>\n",
       "      <th>0</th>\n",
       "      <td>pan</td>\n",
       "      <td>0.25009</td>\n",
       "    </tr>\n",
       "    <tr>\n",
       "      <th>1</th>\n",
       "      <td>queso</td>\n",
       "      <td>0.237719</td>\n",
       "    </tr>\n",
       "    <tr>\n",
       "      <th>2</th>\n",
       "      <td>huevos</td>\n",
       "      <td>0.182425</td>\n",
       "    </tr>\n",
       "    <tr>\n",
       "      <th>3</th>\n",
       "      <td>leche</td>\n",
       "      <td>0.181563</td>\n",
       "    </tr>\n",
       "    <tr>\n",
       "      <th>4</th>\n",
       "      <td>vino</td>\n",
       "      <td>0.162186</td>\n",
       "    </tr>\n",
       "  </tbody>\n",
       "</table>\n",
       "</div>"
      ],
      "text/plain": [
       "  Producto   Soporte\n",
       "0      pan   0.25009\n",
       "1    queso  0.237719\n",
       "2   huevos  0.182425\n",
       "3    leche  0.181563\n",
       "4     vino  0.162186"
      ]
     },
     "execution_count": 59,
     "metadata": {},
     "output_type": "execute_result"
    }
   ],
   "source": [
    "support_df.head(5)"
   ]
  },
  {
   "cell_type": "code",
   "execution_count": 61,
   "id": "5fe3e26c-5eea-4bad-a8a1-b94ccebcffdc",
   "metadata": {},
   "outputs": [
    {
     "data": {
      "text/html": [
       "<div>\n",
       "<style scoped>\n",
       "    .dataframe tbody tr th:only-of-type {\n",
       "        vertical-align: middle;\n",
       "    }\n",
       "\n",
       "    .dataframe tbody tr th {\n",
       "        vertical-align: top;\n",
       "    }\n",
       "\n",
       "    .dataframe thead th {\n",
       "        text-align: right;\n",
       "    }\n",
       "</style>\n",
       "<table border=\"1\" class=\"dataframe\">\n",
       "  <thead>\n",
       "    <tr style=\"text-align: right;\">\n",
       "      <th></th>\n",
       "      <th>Producto</th>\n",
       "      <th>Soporte</th>\n",
       "    </tr>\n",
       "  </thead>\n",
       "  <tbody>\n",
       "    <tr>\n",
       "      <th>992</th>\n",
       "      <td>bañera</td>\n",
       "      <td>0.000028</td>\n",
       "    </tr>\n",
       "    <tr>\n",
       "      <th>1027</th>\n",
       "      <td>analgésico</td>\n",
       "      <td>0.000028</td>\n",
       "    </tr>\n",
       "    <tr>\n",
       "      <th>501</th>\n",
       "      <td>desmaquillantes</td>\n",
       "      <td>0.000639</td>\n",
       "    </tr>\n",
       "    <tr>\n",
       "      <th>1056</th>\n",
       "      <td>espatulón</td>\n",
       "      <td>0.000028</td>\n",
       "    </tr>\n",
       "    <tr>\n",
       "      <th>396</th>\n",
       "      <td>pastelito</td>\n",
       "      <td>0.000973</td>\n",
       "    </tr>\n",
       "  </tbody>\n",
       "</table>\n",
       "</div>"
      ],
      "text/plain": [
       "             Producto   Soporte\n",
       "992            bañera  0.000028\n",
       "1027       analgésico  0.000028\n",
       "501   desmaquillantes  0.000639\n",
       "1056        espatulón  0.000028\n",
       "396         pastelito  0.000973"
      ]
     },
     "execution_count": 61,
     "metadata": {},
     "output_type": "execute_result"
    }
   ],
   "source": [
    "support_df.sample(5)"
   ]
  },
  {
   "cell_type": "code",
   "execution_count": 62,
   "id": "97e4dd4e-540f-4017-8c24-7c6a13870c08",
   "metadata": {},
   "outputs": [
    {
     "data": {
      "text/plain": [
       "(1072, 2)"
      ]
     },
     "execution_count": 62,
     "metadata": {},
     "output_type": "execute_result"
    }
   ],
   "source": [
    "# Verificamos que tenemos los 14287 items y sus frecuencias\n",
    "support_df.shape"
   ]
  },
  {
   "cell_type": "code",
   "execution_count": 63,
   "id": "ba4a9e88-24a7-4190-8455-aac8886b23cb",
   "metadata": {},
   "outputs": [],
   "source": [
    "# !pip install mlxtend"
   ]
  },
  {
   "cell_type": "code",
   "execution_count": 64,
   "id": "ca0e0107-a2c8-4944-ac89-ed93be05ab30",
   "metadata": {},
   "outputs": [],
   "source": [
    "from mlxtend.frequent_patterns import apriori\n",
    "from mlxtend.frequent_patterns import association_rules"
   ]
  },
  {
   "cell_type": "code",
   "execution_count": 65,
   "id": "690dc020-0be5-4d7f-aeff-477777966195",
   "metadata": {},
   "outputs": [
    {
     "data": {
      "text/plain": [
       "(35971, 1072)"
      ]
     },
     "execution_count": 65,
     "metadata": {},
     "output_type": "execute_result"
    }
   ],
   "source": [
    "transaction_matrix.shape"
   ]
  },
  {
   "cell_type": "code",
   "execution_count": 66,
   "id": "7cafea43-0347-4646-8fa1-1811cc1ac4ae",
   "metadata": {},
   "outputs": [],
   "source": [
    "#convertimos la matriz en df con el indice como lista de productos\n",
    "matrix_df = pd.DataFrame(data = transaction_matrix.T,index=product_id)"
   ]
  },
  {
   "cell_type": "code",
   "execution_count": 67,
   "id": "5464d42d-a579-467b-a0ea-d8d0292e4ce9",
   "metadata": {},
   "outputs": [],
   "source": [
    "# Transponemos la matriz para que la funcion la pueda tomar como argumento\n",
    "matrix_df = matrix_df.T"
   ]
  },
  {
   "cell_type": "code",
   "execution_count": 68,
   "id": "1d577c48-b6ce-4472-b355-3d6c45852b70",
   "metadata": {},
   "outputs": [
    {
     "data": {
      "text/plain": [
       "(217, 2)"
      ]
     },
     "execution_count": 68,
     "metadata": {},
     "output_type": "execute_result"
    }
   ],
   "source": [
    "#Aplicamos el algoritmo A priori para limitar las Reglas\n",
    "frequent_itemsets = apriori(matrix_df, min_support=0.01, use_colnames=True)\n",
    "frequent_itemsets.shape"
   ]
  },
  {
   "cell_type": "code",
   "execution_count": 69,
   "id": "61593c7a-542a-408c-a1b9-7c904645393d",
   "metadata": {},
   "outputs": [
    {
     "data": {
      "text/html": [
       "<div>\n",
       "<style scoped>\n",
       "    .dataframe tbody tr th:only-of-type {\n",
       "        vertical-align: middle;\n",
       "    }\n",
       "\n",
       "    .dataframe tbody tr th {\n",
       "        vertical-align: top;\n",
       "    }\n",
       "\n",
       "    .dataframe thead th {\n",
       "        text-align: right;\n",
       "    }\n",
       "</style>\n",
       "<table border=\"1\" class=\"dataframe\">\n",
       "  <thead>\n",
       "    <tr style=\"text-align: right;\">\n",
       "      <th></th>\n",
       "      <th>support</th>\n",
       "      <th>itemsets</th>\n",
       "    </tr>\n",
       "  </thead>\n",
       "  <tbody>\n",
       "    <tr>\n",
       "      <th>8</th>\n",
       "      <td>0.250090</td>\n",
       "      <td>(7794)</td>\n",
       "    </tr>\n",
       "    <tr>\n",
       "      <th>14</th>\n",
       "      <td>0.237719</td>\n",
       "      <td>(6026)</td>\n",
       "    </tr>\n",
       "    <tr>\n",
       "      <th>1</th>\n",
       "      <td>0.182425</td>\n",
       "      <td>(6008)</td>\n",
       "    </tr>\n",
       "    <tr>\n",
       "      <th>4</th>\n",
       "      <td>0.181563</td>\n",
       "      <td>(3350)</td>\n",
       "    </tr>\n",
       "    <tr>\n",
       "      <th>44</th>\n",
       "      <td>0.162186</td>\n",
       "      <td>(5634)</td>\n",
       "    </tr>\n",
       "  </tbody>\n",
       "</table>\n",
       "</div>"
      ],
      "text/plain": [
       "     support itemsets\n",
       "8   0.250090   (7794)\n",
       "14  0.237719   (6026)\n",
       "1   0.182425   (6008)\n",
       "4   0.181563   (3350)\n",
       "44  0.162186   (5634)"
      ]
     },
     "execution_count": 69,
     "metadata": {},
     "output_type": "execute_result"
    }
   ],
   "source": [
    "#ordenamos el output en funcion de los valores de soporte -- Verificamos que nos da los mismos valores que la version hardcodeada\n",
    "frequent_itemsets.sort_values(by='support', ascending=False)[:5]"
   ]
  },
  {
   "cell_type": "code",
   "execution_count": 107,
   "id": "45fcc934-00a5-4ae0-b339-14941d14c94f",
   "metadata": {},
   "outputs": [
    {
     "data": {
      "text/plain": [
       "(496, 9)"
      ]
     },
     "execution_count": 107,
     "metadata": {},
     "output_type": "execute_result"
    }
   ],
   "source": [
    "rules = association_rules(frequent_itemsets, metric=\"lift\", min_threshold=0.01,)\n",
    "rules.shape"
   ]
  },
  {
   "cell_type": "code",
   "execution_count": 108,
   "id": "b4b5aec9-2af2-4716-bbbf-19c03d0ca640",
   "metadata": {},
   "outputs": [
    {
     "data": {
      "text/html": [
       "<div>\n",
       "<style scoped>\n",
       "    .dataframe tbody tr th:only-of-type {\n",
       "        vertical-align: middle;\n",
       "    }\n",
       "\n",
       "    .dataframe tbody tr th {\n",
       "        vertical-align: top;\n",
       "    }\n",
       "\n",
       "    .dataframe thead th {\n",
       "        text-align: right;\n",
       "    }\n",
       "</style>\n",
       "<table border=\"1\" class=\"dataframe\">\n",
       "  <thead>\n",
       "    <tr style=\"text-align: right;\">\n",
       "      <th></th>\n",
       "      <th>antecedents</th>\n",
       "      <th>consequents</th>\n",
       "      <th>antecedent support</th>\n",
       "      <th>consequent support</th>\n",
       "      <th>support</th>\n",
       "      <th>confidence</th>\n",
       "      <th>lift</th>\n",
       "      <th>leverage</th>\n",
       "      <th>conviction</th>\n",
       "    </tr>\n",
       "  </thead>\n",
       "  <tbody>\n",
       "    <tr>\n",
       "      <th>4</th>\n",
       "      <td>(3350)</td>\n",
       "      <td>(6008)</td>\n",
       "      <td>0.181563</td>\n",
       "      <td>0.182425</td>\n",
       "      <td>0.074477</td>\n",
       "      <td>0.410198</td>\n",
       "      <td>2.248585</td>\n",
       "      <td>0.041355</td>\n",
       "      <td>1.386185</td>\n",
       "    </tr>\n",
       "    <tr>\n",
       "      <th>2</th>\n",
       "      <td>(52692)</td>\n",
       "      <td>(6008)</td>\n",
       "      <td>0.138028</td>\n",
       "      <td>0.182425</td>\n",
       "      <td>0.053293</td>\n",
       "      <td>0.386103</td>\n",
       "      <td>2.116504</td>\n",
       "      <td>0.028113</td>\n",
       "      <td>1.331779</td>\n",
       "    </tr>\n",
       "    <tr>\n",
       "      <th>0</th>\n",
       "      <td>(37199)</td>\n",
       "      <td>(6008)</td>\n",
       "      <td>0.136137</td>\n",
       "      <td>0.182425</td>\n",
       "      <td>0.050680</td>\n",
       "      <td>0.372269</td>\n",
       "      <td>2.040670</td>\n",
       "      <td>0.025845</td>\n",
       "      <td>1.302429</td>\n",
       "    </tr>\n",
       "    <tr>\n",
       "      <th>3</th>\n",
       "      <td>(6008)</td>\n",
       "      <td>(52692)</td>\n",
       "      <td>0.182425</td>\n",
       "      <td>0.138028</td>\n",
       "      <td>0.053293</td>\n",
       "      <td>0.292137</td>\n",
       "      <td>2.116504</td>\n",
       "      <td>0.028113</td>\n",
       "      <td>1.217710</td>\n",
       "    </tr>\n",
       "    <tr>\n",
       "      <th>1</th>\n",
       "      <td>(6008)</td>\n",
       "      <td>(37199)</td>\n",
       "      <td>0.182425</td>\n",
       "      <td>0.136137</td>\n",
       "      <td>0.050680</td>\n",
       "      <td>0.277812</td>\n",
       "      <td>2.040670</td>\n",
       "      <td>0.025845</td>\n",
       "      <td>1.196173</td>\n",
       "    </tr>\n",
       "  </tbody>\n",
       "</table>\n",
       "</div>"
      ],
      "text/plain": [
       "  antecedents consequents  antecedent support  consequent support   support  \\\n",
       "4      (3350)      (6008)            0.181563            0.182425  0.074477   \n",
       "2     (52692)      (6008)            0.138028            0.182425  0.053293   \n",
       "0     (37199)      (6008)            0.136137            0.182425  0.050680   \n",
       "3      (6008)     (52692)            0.182425            0.138028  0.053293   \n",
       "1      (6008)     (37199)            0.182425            0.136137  0.050680   \n",
       "\n",
       "   confidence      lift  leverage  conviction  \n",
       "4    0.410198  2.248585  0.041355    1.386185  \n",
       "2    0.386103  2.116504  0.028113    1.331779  \n",
       "0    0.372269  2.040670  0.025845    1.302429  \n",
       "3    0.292137  2.116504  0.028113    1.217710  \n",
       "1    0.277812  2.040670  0.025845    1.196173  "
      ]
     },
     "execution_count": 108,
     "metadata": {},
     "output_type": "execute_result"
    }
   ],
   "source": [
    "rules.head(5).sort_values(by='confidence' ,ascending=False)"
   ]
  },
  {
   "cell_type": "markdown",
   "id": "d221216a-2207-4d04-8580-9b724b7926dc",
   "metadata": {},
   "source": [
    "# Testeamos las reglas creadas"
   ]
  },
  {
   "cell_type": "code",
   "execution_count": 109,
   "id": "c97517ed-952c-4677-a7f0-a6e4f57a9540",
   "metadata": {},
   "outputs": [],
   "source": [
    "rules['antecedents_no_frozen'] = rules['antecedents'].apply(lambda x: list(x)[0]).astype(\"unicode\")\n",
    "rules['consequents_no_frozen'] = rules['consequents'].apply(lambda x: list(x)[0]).astype(\"unicode\")"
   ]
  },
  {
   "cell_type": "code",
   "execution_count": 110,
   "id": "6f4a7085-1ba0-491d-b379-4f2196717a65",
   "metadata": {},
   "outputs": [],
   "source": [
    "rules['antecedents_no_frozen_by_name'] = rules['antecedents_no_frozen'].apply(lambda x: df_product[df_product['item_id']==x]['item_name'].iloc[0])\n",
    "rules['consequents_no_frozen_by_name'] = rules['consequents_no_frozen'].apply(lambda x: df_product[df_product['item_id']==x]['item_name'].iloc[0])"
   ]
  },
  {
   "cell_type": "code",
   "execution_count": 111,
   "id": "39d39631-17b9-4d81-893c-32582210d8ab",
   "metadata": {},
   "outputs": [
    {
     "data": {
      "text/plain": [
       "antecedents_no_frozen_by_name  consequents_no_frozen_by_name\n",
       "pan                            leche                            16\n",
       "leche                          pan                              16\n",
       "dtype: int64"
      ]
     },
     "execution_count": 111,
     "metadata": {},
     "output_type": "execute_result"
    }
   ],
   "source": [
    "rules[['antecedents_no_frozen_by_name','consequents_no_frozen_by_name']].value_counts()[:2]"
   ]
  },
  {
   "cell_type": "code",
   "execution_count": 112,
   "id": "6dd40777-3428-4506-8640-2483cbb7036f",
   "metadata": {},
   "outputs": [
    {
     "name": "stdout",
     "output_type": "stream",
     "text": [
      "Testing ITEM ID: 6008\n"
     ]
    }
   ],
   "source": [
    "random_index = np.random.randint(rules.shape[0])\n",
    "testing_item = rules['antecedents_no_frozen'][random_index]\n",
    "print(f\"Testing ITEM ID: {testing_item}\")"
   ]
  },
  {
   "cell_type": "code",
   "execution_count": 113,
   "id": "d46426c8-6ec3-4ff7-b5a8-7b10c3c24f9d",
   "metadata": {},
   "outputs": [
    {
     "data": {
      "text/html": [
       "<div>\n",
       "<style scoped>\n",
       "    .dataframe tbody tr th:only-of-type {\n",
       "        vertical-align: middle;\n",
       "    }\n",
       "\n",
       "    .dataframe tbody tr th {\n",
       "        vertical-align: top;\n",
       "    }\n",
       "\n",
       "    .dataframe thead th {\n",
       "        text-align: right;\n",
       "    }\n",
       "</style>\n",
       "<table border=\"1\" class=\"dataframe\">\n",
       "  <thead>\n",
       "    <tr style=\"text-align: right;\">\n",
       "      <th></th>\n",
       "      <th>item_id</th>\n",
       "      <th>item_name</th>\n",
       "      <th>item_category</th>\n",
       "    </tr>\n",
       "  </thead>\n",
       "  <tbody>\n",
       "    <tr>\n",
       "      <th>5</th>\n",
       "      <td>6008</td>\n",
       "      <td>huevos</td>\n",
       "      <td>Lácteos y Huevos</td>\n",
       "    </tr>\n",
       "  </tbody>\n",
       "</table>\n",
       "</div>"
      ],
      "text/plain": [
       "  item_id item_name     item_category\n",
       "5    6008    huevos  Lácteos y Huevos"
      ]
     },
     "execution_count": 113,
     "metadata": {},
     "output_type": "execute_result"
    }
   ],
   "source": [
    "df_product[df_product['item_id']==testing_item]"
   ]
  },
  {
   "cell_type": "code",
   "execution_count": 114,
   "id": "ce7ea500-1603-4a94-973f-0db78cc47124",
   "metadata": {},
   "outputs": [],
   "source": [
    "# Ejemplo de \"Consulta\" al Modelo de Recomendacion\n",
    "consulta = rules['consequents'][rules['antecedents'] == frozenset({testing_item})][1:6]\n"
   ]
  },
  {
   "cell_type": "code",
   "execution_count": 115,
   "id": "16df4e40-ec9a-4bc3-8fe4-e56065059c21",
   "metadata": {},
   "outputs": [
    {
     "name": "stdout",
     "output_type": "stream",
     "text": [
      "filete\n",
      "leche\n",
      "galletas\n",
      "pan\n",
      "mantequilla\n"
     ]
    }
   ],
   "source": [
    "for i in list(consulta):\n",
    "    element = str(list(i)[0])\n",
    "    print(df_product[df_product['item_id']==element]['item_name'].iloc[0])"
   ]
  },
  {
   "cell_type": "code",
   "execution_count": 118,
   "id": "75139381-488c-4081-94ef-aa25fbd78b66",
   "metadata": {},
   "outputs": [],
   "source": [
    "def make_recommendation():\n",
    "    random_index = np.random.randint(rules.shape[0])\n",
    "    testing_item = rules['antecedents_no_frozen'][random_index]\n",
    "    item_name = df_product[df_product['item_id']==testing_item]['item_name']\n",
    "    print(100*\"#\")\n",
    "    print(item_name)\n",
    "    print(100*\"#\")\n",
    "    consulta = rules['consequents'][rules['antecedents'] == frozenset({testing_item})][1:6]\n",
    "    for i in list(consulta):\n",
    "        element = str(list(i)[0])\n",
    "        print(df_product[df_product['item_id']==element]['item_name'].iloc[0])\n",
    "    "
   ]
  },
  {
   "cell_type": "code",
   "execution_count": 120,
   "id": "bc9cf60a-0e45-44b4-b74d-ab8385393d83",
   "metadata": {},
   "outputs": [
    {
     "name": "stdout",
     "output_type": "stream",
     "text": [
      "####################################################################################################\n",
      "23    mantequilla\n",
      "Name: item_name, dtype: object\n",
      "####################################################################################################\n",
      "leche\n",
      "pan\n",
      "yogurt\n",
      "queso\n",
      "pan\n"
     ]
    }
   ],
   "source": [
    "make_recommendation()"
   ]
  },
  {
   "cell_type": "markdown",
   "id": "b1862932-518b-4185-8bfc-382e445a37c1",
   "metadata": {},
   "source": [
    "# V2 - \n",
    "USANDO transformer de la Libreria "
   ]
  },
  {
   "cell_type": "code",
   "execution_count": 269,
   "id": "b767e034-99ae-4371-8044-7b849b07340d",
   "metadata": {},
   "outputs": [],
   "source": [
    "# import pandas as pd\n",
    "# from mlxtend.preprocessing import TransactionEncoder\n",
    "# from mlxtend.frequent_patterns import apriori, fpmax, fpgrowth"
   ]
  },
  {
   "cell_type": "code",
   "execution_count": 279,
   "id": "3af70b12-d92c-49fe-8c6e-e93aef221d0f",
   "metadata": {},
   "outputs": [],
   "source": [
    "# dataset = df['items_id'].copy()"
   ]
  },
  {
   "cell_type": "code",
   "execution_count": 282,
   "id": "5aba7872-a1e8-400c-8712-3b340285987c",
   "metadata": {},
   "outputs": [],
   "source": [
    "# te = TransactionEncoder()\n",
    "# te_ary = te.fit(dataset).transform(dataset)\n",
    "# df2 = pd.DataFrame(te_ary, columns=te.columns_)\n",
    "\n",
    "# frequent_itemsets = fpgrowth(df2, min_support=0.0006, use_colnames=True)"
   ]
  },
  {
   "cell_type": "code",
   "execution_count": 283,
   "id": "5329a485-7050-44e8-a9ef-f813bbb431e0",
   "metadata": {},
   "outputs": [
    {
     "data": {
      "text/html": [
       "<div>\n",
       "<style scoped>\n",
       "    .dataframe tbody tr th:only-of-type {\n",
       "        vertical-align: middle;\n",
       "    }\n",
       "\n",
       "    .dataframe tbody tr th {\n",
       "        vertical-align: top;\n",
       "    }\n",
       "\n",
       "    .dataframe thead th {\n",
       "        text-align: right;\n",
       "    }\n",
       "</style>\n",
       "<table border=\"1\" class=\"dataframe\">\n",
       "  <thead>\n",
       "    <tr style=\"text-align: right;\">\n",
       "      <th></th>\n",
       "      <th>support</th>\n",
       "      <th>itemsets</th>\n",
       "    </tr>\n",
       "  </thead>\n",
       "  <tbody>\n",
       "    <tr>\n",
       "      <th>0</th>\n",
       "      <td>0.002585</td>\n",
       "      <td>(33135)</td>\n",
       "    </tr>\n",
       "    <tr>\n",
       "      <th>1</th>\n",
       "      <td>0.001473</td>\n",
       "      <td>(6951)</td>\n",
       "    </tr>\n",
       "    <tr>\n",
       "      <th>2</th>\n",
       "      <td>0.001084</td>\n",
       "      <td>(14328)</td>\n",
       "    </tr>\n",
       "    <tr>\n",
       "      <th>3</th>\n",
       "      <td>0.001056</td>\n",
       "      <td>(100085726)</td>\n",
       "    </tr>\n",
       "    <tr>\n",
       "      <th>4</th>\n",
       "      <td>0.000695</td>\n",
       "      <td>(13027)</td>\n",
       "    </tr>\n",
       "    <tr>\n",
       "      <th>...</th>\n",
       "      <td>...</td>\n",
       "      <td>...</td>\n",
       "    </tr>\n",
       "    <tr>\n",
       "      <th>5471</th>\n",
       "      <td>0.000667</td>\n",
       "      <td>(263, 1168)</td>\n",
       "    </tr>\n",
       "    <tr>\n",
       "      <th>5472</th>\n",
       "      <td>0.000612</td>\n",
       "      <td>(9053, 263)</td>\n",
       "    </tr>\n",
       "    <tr>\n",
       "      <th>5473</th>\n",
       "      <td>0.000723</td>\n",
       "      <td>(52607, 52604)</td>\n",
       "    </tr>\n",
       "    <tr>\n",
       "      <th>5474</th>\n",
       "      <td>0.000751</td>\n",
       "      <td>(1168, 9299)</td>\n",
       "    </tr>\n",
       "    <tr>\n",
       "      <th>5475</th>\n",
       "      <td>0.000723</td>\n",
       "      <td>(9053, 9299)</td>\n",
       "    </tr>\n",
       "  </tbody>\n",
       "</table>\n",
       "<p>5476 rows × 2 columns</p>\n",
       "</div>"
      ],
      "text/plain": [
       "       support        itemsets\n",
       "0     0.002585         (33135)\n",
       "1     0.001473          (6951)\n",
       "2     0.001084         (14328)\n",
       "3     0.001056     (100085726)\n",
       "4     0.000695         (13027)\n",
       "...        ...             ...\n",
       "5471  0.000667     (263, 1168)\n",
       "5472  0.000612     (9053, 263)\n",
       "5473  0.000723  (52607, 52604)\n",
       "5474  0.000751    (1168, 9299)\n",
       "5475  0.000723    (9053, 9299)\n",
       "\n",
       "[5476 rows x 2 columns]"
      ]
     },
     "execution_count": 283,
     "metadata": {},
     "output_type": "execute_result"
    }
   ],
   "source": [
    "frequent_itemsets"
   ]
  },
  {
   "cell_type": "code",
   "execution_count": null,
   "id": "fe9753e7-4208-422f-8f8a-98d8369566db",
   "metadata": {},
   "outputs": [],
   "source": []
  }
 ],
 "metadata": {
  "environment": {
   "kernel": "python3",
   "name": "common-cpu.m91",
   "type": "gcloud",
   "uri": "gcr.io/deeplearning-platform-release/base-cpu:m91"
  },
  "kernelspec": {
   "display_name": "Python 3",
   "language": "python",
   "name": "python3"
  },
  "language_info": {
   "codemirror_mode": {
    "name": "ipython",
    "version": 3
   },
   "file_extension": ".py",
   "mimetype": "text/x-python",
   "name": "python",
   "nbconvert_exporter": "python",
   "pygments_lexer": "ipython3",
   "version": "3.7.12"
  }
 },
 "nbformat": 4,
 "nbformat_minor": 5
}
